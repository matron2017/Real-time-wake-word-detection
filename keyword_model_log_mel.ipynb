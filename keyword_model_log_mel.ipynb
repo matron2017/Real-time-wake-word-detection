{
 "cells": [
  {
   "cell_type": "code",
   "execution_count": 1,
   "id": "b0c96513",
   "metadata": {},
   "outputs": [
    {
     "name": "stderr",
     "output_type": "stream",
     "text": [
      "2023-01-10 12:12:36.723544: I tensorflow/core/platform/cpu_feature_guard.cc:193] This TensorFlow binary is optimized with oneAPI Deep Neural Network Library (oneDNN) to use the following CPU instructions in performance-critical operations:  AVX2 AVX512F AVX512_VNNI FMA\n",
      "To enable them in other operations, rebuild TensorFlow with the appropriate compiler flags.\n",
      "2023-01-10 12:12:36.841667: I tensorflow/core/util/util.cc:169] oneDNN custom operations are on. You may see slightly different numerical results due to floating-point round-off errors from different computation orders. To turn them off, set the environment variable `TF_ENABLE_ONEDNN_OPTS=0`.\n",
      "2023-01-10 12:12:36.866129: E tensorflow/stream_executor/cuda/cuda_blas.cc:2981] Unable to register cuBLAS factory: Attempting to register factory for plugin cuBLAS when one has already been registered\n",
      "2023-01-10 12:12:37.348093: W tensorflow/stream_executor/platform/default/dso_loader.cc:64] Could not load dynamic library 'libnvinfer.so.7'; dlerror: libnvinfer.so.7: cannot open shared object file: No such file or directory; LD_LIBRARY_PATH: :/home/avatar/miniconda3/envs/avatarenv/lib/\n",
      "2023-01-10 12:12:37.348179: W tensorflow/stream_executor/platform/default/dso_loader.cc:64] Could not load dynamic library 'libnvinfer_plugin.so.7'; dlerror: libnvinfer_plugin.so.7: cannot open shared object file: No such file or directory; LD_LIBRARY_PATH: :/home/avatar/miniconda3/envs/avatarenv/lib/\n",
      "2023-01-10 12:12:37.348184: W tensorflow/compiler/tf2tensorrt/utils/py_utils.cc:38] TF-TRT Warning: Cannot dlopen some TensorRT libraries. If you would like to use Nvidia GPU with TensorRT, please make sure the missing libraries mentioned above are installed properly.\n"
     ]
    }
   ],
   "source": [
    "import os\n",
    "import pathlib\n",
    "import numpy as np\n",
    "import tensorflow as tf\n",
    "from tensorflow.keras import layers\n",
    "from tensorflow.keras import models\n",
    "import wave\n",
    "from scipy.io.wavfile import read\n",
    "from sklearn.model_selection import train_test_split\n",
    "import librosa\n",
    "from sklearn.model_selection import train_test_split\n",
    "from tensorflow.keras.utils import to_categorical\n",
    "from tensorflow.keras import Sequential\n",
    "import sounddevice as sd\n",
    "from scipy.io.wavfile import write\n",
    "import matplotlib.pyplot as plt\n",
    "from keras.models import Model\n",
    "from keras.layers import  Conv1D,  GRU, Dropout, Input, Dense, Conv2D, Reshape, MaxPooling2D\n",
    "import random\n",
    "from sklearn.metrics import confusion_matrix\n",
    "from sklearn.metrics import roc_curve\n",
    "from scipy import linalg\n",
    "random.seed(111)\n",
    "fs = 16000\n",
    "Keyword_path = \"/home/avatar/avatar_project/keyword_sound\"\n",
    "Noise_path =  \"/home/avatar/avatar_project/background_sound\"\n",
    "\n",
    "Val_path_pos = \"/home/avatar/avatar_project/validation_data/positives\"\n",
    "Val_path_neg = \"/home/avatar/avatar_project/validation_data/negatives\""
   ]
  },
  {
   "cell_type": "code",
   "execution_count": 2,
   "id": "8b89228a",
   "metadata": {},
   "outputs": [],
   "source": [
    "def spec_augment(spec: np.ndarray, num_mask=2, \n",
    "                 freq_masking_max_percentage=0.10, time_masking_max_percentage=0.2):\n",
    "\n",
    "    spec = spec.copy()\n",
    "    for i in range(num_mask):\n",
    "        all_frames_num, all_freqs_num = spec.shape\n",
    "        freq_percentage = random.uniform(0.0, freq_masking_max_percentage)\n",
    "        \n",
    "        num_freqs_to_mask = int(freq_percentage * all_freqs_num)\n",
    "        f0 = np.random.uniform(low=0.0, high=all_freqs_num - num_freqs_to_mask)\n",
    "        f0 = int(f0)\n",
    "        spec[:, f0:f0 + num_freqs_to_mask] = 0\n",
    "\n",
    "        time_percentage = random.uniform(0.0, time_masking_max_percentage)\n",
    "        \n",
    "        num_frames_to_mask = int(time_percentage * all_frames_num)\n",
    "        t0 = np.random.uniform(low=0.0, high=all_frames_num - num_frames_to_mask)\n",
    "        t0 = int(t0)\n",
    "        spec[t0:t0 + num_frames_to_mask, :] = 0\n",
    "    \n",
    "    return spec\n"
   ]
  },
  {
   "cell_type": "code",
   "execution_count": 3,
   "id": "722f6d52",
   "metadata": {},
   "outputs": [],
   "source": [
    "keyword_data = []\n",
    "noise_data = []\n",
    "test_pos = []\n",
    "test_neg = []\n",
    "val_pos = []\n",
    "val_neg = []\n",
    "sample_rate = 16000\n",
    "keyword_data_aug = []\n",
    "noise_data_aug = []\n",
    "\n",
    "ebin_augment = []\n",
    "ebin = []\n",
    "\n",
    "keyword_audio = []\n",
    "noise_audio = []\n",
    "\n",
    "for keyword in os.listdir(Keyword_path):\n",
    "    audio, fs = librosa.load(os.path.join(Keyword_path, keyword), sr=16000)\n",
    "    keyword_audio.append(audio)\n",
    "    \n",
    "    mel_spec = librosa.feature.melspectrogram(y=audio, sr=sample_rate, n_fft=512, hop_length=160, n_mels=48, fmax=8000)\n",
    "    mel_spec_db = librosa.power_to_db(mel_spec, ref=np.max).T\n",
    "    mel_spec_db_norm = (mel_spec_db - np.min(mel_spec_db)) / (np.max(mel_spec_db) - np.min(mel_spec_db))\n",
    "    keyword_data.append(mel_spec_db_norm) \n",
    "    ebin.append(mel_spec_db)\n",
    "    mel_spec_db = librosa.power_to_db(spec_augment(mel_spec), ref=np.max).T\n",
    "    ebin_augment.append(mel_spec_db)\n",
    "    mel_spec_db_norm = (mel_spec_db - np.min(mel_spec_db)) / (np.max(mel_spec_db) - np.min(mel_spec_db))\n",
    "    keyword_data_aug.append(mel_spec_db_norm) \n",
    "\n",
    "\n",
    "    \n",
    "for keyword in os.listdir(Val_path_pos):\n",
    "    audio, fs = librosa.load(os.path.join(Val_path_pos, keyword), sr=16000)\n",
    "    \n",
    "    mel_spec = librosa.feature.melspectrogram(y=audio, sr=sample_rate, n_fft=512, hop_length=160, n_mels=48, fmax=8000)\n",
    "    mel_spec_db = librosa.power_to_db(mel_spec, ref=np.max).T\n",
    "    mel_spec_db_norm = (mel_spec_db - np.min(mel_spec_db)) / (np.max(mel_spec_db) - np.min(mel_spec_db))\n",
    "    val_pos.append(mel_spec_db_norm) \n",
    "    \n",
    "    \n",
    "    \n",
    "\n",
    "for noise in os.listdir(Noise_path):\n",
    "    audio, fs = librosa.load(os.path.join(Noise_path, noise), sr=16000)\n",
    "    noise_audio.append(audio)\n",
    "    \n",
    "    mel_spec = librosa.feature.melspectrogram(y=audio, sr=sample_rate, n_fft=512, hop_length=160, n_mels=48, fmax=8000)\n",
    "    mel_spec_db = librosa.power_to_db(mel_spec, ref=np.max).T\n",
    "    mel_spec_db_norm = (mel_spec_db - np.min(mel_spec_db)) / (np.max(mel_spec_db) - np.min(mel_spec_db))\n",
    "    noise_data.append(mel_spec_db_norm)\n",
    "    \n",
    "    mel_spec_db = librosa.power_to_db(spec_augment(mel_spec), ref=np.max).T\n",
    "    mel_spec_db_norm = (mel_spec_db - np.min(mel_spec_db)) / (np.max(mel_spec_db) - np.min(mel_spec_db))\n",
    "    noise_data_aug.append(mel_spec_db_norm) \n",
    " \n",
    "\n",
    "\n",
    "    \n",
    "for noise in os.listdir(Val_path_neg):\n",
    "    audio, fs = librosa.load(os.path.join(Val_path_neg, noise), sr=16000)\n",
    "    \n",
    "    mel_spec = librosa.feature.melspectrogram(y=audio, sr=sample_rate, n_fft=512, hop_length=160, n_mels=48, fmax=8000)\n",
    "    mel_spec_db = librosa.power_to_db(mel_spec, ref=np.max).T\n",
    "    mel_spec_db_norm = (mel_spec_db - np.min(mel_spec_db)) / (np.max(mel_spec_db) - np.min(mel_spec_db))\n",
    "    val_neg.append(mel_spec_db_norm) "
   ]
  },
  {
   "cell_type": "code",
   "execution_count": 4,
   "id": "260f0ac0",
   "metadata": {},
   "outputs": [],
   "source": [
    "def time_shift(audio): \n",
    "    return np.roll(audio,int(sample_rate/(random.randint(2,10)))) #randint means that roll is done with freqs 1600 and 3200\n",
    "\n",
    "\n",
    "\n",
    "for audio_first in keyword_audio[::10]:\n",
    "    for audio_second in keyword_audio[::10]: \n",
    "        audio_shifted = np.add(audio_first, time_shift(audio_second)*random.uniform(0.6, 0.9))\n",
    "        \n",
    "        mel_spec = librosa.feature.melspectrogram(y=audio_shifted, sr=sample_rate, n_fft=512, hop_length=160, n_mels=48, fmax=8000)\n",
    "        mel_spec_db = librosa.power_to_db(mel_spec, ref=np.max).T\n",
    "        mel_spec_db_norm = (mel_spec_db - np.min(mel_spec_db)) / (np.max(mel_spec_db) - np.min(mel_spec_db))\n",
    "        keyword_data.append(mel_spec_db_norm) \n",
    "        \n",
    "for audio_first in noise_audio[::10]:\n",
    "    for audio_second in noise_audio[::10]: \n",
    "        audio_shifted = np.add(audio_first, time_shift(audio_second)*random.uniform(0.6, 0.9))\n",
    "        \n",
    "        mel_spec = librosa.feature.melspectrogram(y=audio_shifted, sr=sample_rate, n_fft=512, hop_length=160, n_mels=48, fmax=8000)\n",
    "        mel_spec_db = librosa.power_to_db(mel_spec, ref=np.max).T\n",
    "        mel_spec_db_norm = (mel_spec_db - np.min(mel_spec_db)) / (np.max(mel_spec_db) - np.min(mel_spec_db))\n",
    "        noise_data.append(mel_spec_db_norm)\n",
    "        \n",
    "\n",
    "keyword_data = keyword_data + keyword_data_aug\n",
    "noise_data = noise_data + noise_data_aug"
   ]
  },
  {
   "cell_type": "code",
   "execution_count": 5,
   "id": "883eae1c",
   "metadata": {},
   "outputs": [
    {
     "name": "stdout",
     "output_type": "stream",
     "text": [
      "(301, 48)\n"
     ]
    },
    {
     "name": "stderr",
     "output_type": "stream",
     "text": [
      "/tmp/ipykernel_135866/3448456333.py:10: UserWarning: FixedFormatter should only be used together with FixedLocator\n",
      "  ax.set_xticklabels(x)\n",
      "/tmp/ipykernel_135866/3448456333.py:24: UserWarning: FixedFormatter should only be used together with FixedLocator\n",
      "  ax.set_xticklabels(x)\n"
     ]
    },
    {
     "data": {
      "image/png": "[encoded data removed]",
      "text/plain": [
       "<Figure size 640x480 with 2 Axes>"
      ]
     },
     "metadata": {},
     "output_type": "display_data"
    },
    {
     "data": {
      "image/png": "[encoded data removed]",
      "text/plain": [
       "<Figure size 640x480 with 2 Axes>"
      ]
     },
     "metadata": {},
     "output_type": "display_data"
    }
   ],
   "source": [
    "import librosa.display\n",
    "\n",
    "fig, ax = plt.subplots()\n",
    "x = [\"\",\"0\", \"1\", \"2\", \"3\"]\n",
    "print(keyword_data[17].shape)\n",
    "img = librosa.display.specshow(keyword_data[17], x_axis='time',\n",
    "y_axis='mel', sr=16000, fmax=8000, ax=ax)\n",
    "\n",
    "fig.colorbar(img, ax=ax, format='%+2.0f dB')\n",
    "ax.set_xticklabels(x)\n",
    "ax.set(title='Augmented Mel-frequency Spectrogram')\n",
    "ax.set_xlabel(\"Time (s)\")\n",
    "ax.set_ylabel(\"Frequency (Hz)\")\n",
    "plt.savefig('augmented_mel_spec.png')\n",
    "#Let us take a look at one of the true positive and false positive samples Female voice test set. \n",
    "\n",
    "fig, ax = plt.subplots()\n",
    "x = [\"\",\"0\", \"1\", \"2\", \"3\"]\n",
    "\n",
    "img = librosa.display.specshow(noise_data[0].T, x_axis='time',\n",
    "y_axis='mel', sr=16000, fmax=8000, ax=ax)\n",
    "\n",
    "fig.colorbar(img, ax=ax, format='%+2.0f dB')\n",
    "ax.set_xticklabels(x)\n",
    "ax.set(title='Mel-frequency Spectrogram')\n",
    "ax.set_xlabel(\"Time (s)\")\n",
    "ax.set_ylabel(\"Frequency (Hz)\")\n",
    "plt.savefig('mel_spec.png')"
   ]
  },
  {
   "cell_type": "code",
   "execution_count": 6,
   "id": "216a13e9",
   "metadata": {},
   "outputs": [
    {
     "name": "stdout",
     "output_type": "stream",
     "text": [
      "(3149, 301, 48)\n",
      "(3149, 301, 48)\n",
      "(190, 301, 48)\n",
      "(190, 301, 48)\n"
     ]
    }
   ],
   "source": [
    "print(np.shape(keyword_data))\n",
    "print(np.shape(noise_data))\n",
    "print(np.shape(val_pos))\n",
    "print(np.shape(val_neg))\n",
    "\n",
    "keyword_data = np.squeeze(keyword_data)\n",
    "noise_data = np.squeeze(noise_data)\n",
    "val_pos = np.squeeze(val_pos)\n",
    "val_neg = np.squeeze(val_neg)\n",
    "\n",
    "keyword_labels = np.ones(keyword_data.shape[0])\n",
    "val_pos_labels = np.ones(val_pos.shape[0])\n",
    "\n",
    "noise_labels = 0*np.ones(noise_data.shape[0])\n",
    "val_neg_labels = 0*np.ones(val_neg.shape[0])\n",
    "\n",
    "X_train = np.concatenate((keyword_data, noise_data), axis=0)\n",
    "y_train  = np.concatenate((keyword_labels, noise_labels), axis=0)\n",
    "\n",
    "X_val = np.concatenate((val_pos, val_neg), axis=0)\n",
    "y_val = np.concatenate((val_pos_labels, val_neg_labels), axis=0)\n",
    "\n",
    "y_train = tf.keras.utils.to_categorical(y_train, 2)\n",
    "y_val = tf.keras.utils.to_categorical(y_val, 2)"
   ]
  },
  {
   "cell_type": "code",
   "execution_count": 7,
   "id": "f374f10d",
   "metadata": {},
   "outputs": [
    {
     "name": "stdout",
     "output_type": "stream",
     "text": [
      "301\n",
      "48\n"
     ]
    }
   ],
   "source": [
    "print(keyword_data.shape[1])\n",
    "print(keyword_data.shape[2])"
   ]
  },
  {
   "cell_type": "code",
   "execution_count": 8,
   "id": "0df09711",
   "metadata": {},
   "outputs": [
    {
     "name": "stdout",
     "output_type": "stream",
     "text": [
      "Model: \"sequential\"\n",
      "_________________________________________________________________\n",
      " Layer (type)                Output Shape              Param #   \n",
      "=================================================================\n",
      " layer1 (Conv1D)             (None, 301, 48)           6960      \n",
      "                                                                 \n",
      " dropout (Dropout)           (None, 301, 48)           0         \n",
      "                                                                 \n",
      " layer2 (Conv1D)             (None, 301, 48)           6960      \n",
      "                                                                 \n",
      " dropout_1 (Dropout)         (None, 301, 48)           0         \n",
      "                                                                 \n",
      " RNN_1 (GRU)                 (None, 48)                14112     \n",
      "                                                                 \n",
      " dense_a (Dense)             (None, 2)                 98        \n"
     ]
    },
    {
     "name": "stderr",
     "output_type": "stream",
     "text": [
      "2023-01-10 12:13:51.390741: I tensorflow/core/platform/cpu_feature_guard.cc:193] This TensorFlow binary is optimized with oneAPI Deep Neural Network Library (oneDNN) to use the following CPU instructions in performance-critical operations:  AVX2 AVX512F AVX512_VNNI FMA\n",
      "To enable them in other operations, rebuild TensorFlow with the appropriate compiler flags.\n",
      "2023-01-10 12:13:51.757604: I tensorflow/core/common_runtime/gpu/gpu_device.cc:1616] Created device /job:localhost/replica:0/task:0/device:GPU:0 with 7148 MB memory:  -> device: 0, name: NVIDIA TITAN V, pci bus id: 0000:65:00.0, compute capability: 7.0\n"
     ]
    },
    {
     "name": "stdout",
     "output_type": "stream",
     "text": [
      "                                                                 \n",
      "=================================================================\n",
      "Total params: 28,130\n",
      "Trainable params: 28,130\n",
      "Non-trainable params: 0\n",
      "_________________________________________________________________\n"
     ]
    }
   ],
   "source": [
    "from keras.backend import manual_variable_initialization \n",
    "manual_variable_initialization(True)\n",
    "\n",
    "num_units = 48\n",
    "dropout_ratio = 0.3\n",
    "checkpoint_filepath = '/home/avatar/avatar_project/wake_word_model'\n",
    "checkpoint_dir = os.path.dirname(checkpoint_filepath)\n",
    "\n",
    "my_callbacks = [tf.keras.callbacks.EarlyStopping(monitor='loss', patience=120, mode='min'),\n",
    "                tf.keras.callbacks.ModelCheckpoint(filepath=checkpoint_filepath, save_weights_only=False, \n",
    "                monitor='val_loss', mode='max', save_best_only=True),\n",
    "]\n",
    "\n",
    "model = Sequential([\n",
    "    Input(shape=(keyword_data.shape[1], keyword_data.shape[2])),\n",
    "    Conv1D(num_units,3,padding=\"same\",activation='relu',name='layer1'),\n",
    "    Dropout(dropout_ratio),\n",
    "    Conv1D(num_units,3,padding=\"same\",activation='relu',name='layer2'),\n",
    "    Dropout(dropout_ratio),\n",
    "    GRU(num_units,name='RNN_1',return_sequences=False),\n",
    "    Dense(2, activation='softmax', name='dense_a'),\n",
    "])\n",
    "\n",
    "model.compile(loss='BinaryCrossentropy', optimizer=tf.keras.optimizers.Adam(learning_rate=0.0001),\n",
    "metrics=['accuracy'])\n",
    "\n",
    "model.summary()"
   ]
  },
  {
   "cell_type": "code",
   "execution_count": 9,
   "id": "d2c0d2a3",
   "metadata": {},
   "outputs": [
    {
     "name": "stdout",
     "output_type": "stream",
     "text": [
      "Epoch 1/2000\n"
     ]
    },
    {
     "name": "stderr",
     "output_type": "stream",
     "text": [
      "2023-01-10 12:13:53.871457: I tensorflow/stream_executor/cuda/cuda_dnn.cc:384] Loaded cuDNN version 8201\n",
      "2023-01-10 12:13:54.164629: W tensorflow/stream_executor/gpu/asm_compiler.cc:111] *** WARNING *** You are using ptxas 10.1.243, which is older than 11.1. ptxas before 11.1 is known to miscompile XLA code, leading to incorrect results or invalid-address errors.\n",
      "\n",
      "You may not need to update to CUDA 11.1; cherry-picking the ptxas binary is often sufficient.\n"
     ]
    },
    {
     "name": "stdout",
     "output_type": "stream",
     "text": [
      "197/197 [==============================] - ETA: 0s - loss: 0.6633 - accuracy: 0.6116"
     ]
    },
    {
     "name": "stderr",
     "output_type": "stream",
     "text": [
      "WARNING:absl:Found untraced functions such as _jit_compiled_convolution_op, _jit_compiled_convolution_op, gru_cell_layer_call_fn, gru_cell_layer_call_and_return_conditional_losses while saving (showing 4 of 4). These functions will not be directly callable after loading.\n"
     ]
    },
    {
     "name": "stdout",
     "output_type": "stream",
     "text": [
      "INFO:tensorflow:Assets written to: /home/avatar/avatar_project/wake_word_model/assets\n"
     ]
    },
    {
     "name": "stderr",
     "output_type": "stream",
     "text": [
      "INFO:tensorflow:Assets written to: /home/avatar/avatar_project/wake_word_model/assets\n"
     ]
    },
    {
     "name": "stdout",
     "output_type": "stream",
     "text": [
      "197/197 [==============================] - 9s 34ms/step - loss: 0.6633 - accuracy: 0.6116 - val_loss: 0.5956 - val_accuracy: 0.7079\n",
      "Epoch 2/2000\n",
      "197/197 [==============================] - 4s 21ms/step - loss: 0.6341 - accuracy: 0.6431 - val_loss: 0.5829 - val_accuracy: 0.7105\n",
      "Epoch 3/2000\n",
      "196/197 [============================>.] - ETA: 0s - loss: 0.6212 - accuracy: 0.6507"
     ]
    },
    {
     "name": "stderr",
     "output_type": "stream",
     "text": [
      "WARNING:absl:Found untraced functions such as _jit_compiled_convolution_op, _jit_compiled_convolution_op, gru_cell_layer_call_fn, gru_cell_layer_call_and_return_conditional_losses while saving (showing 4 of 4). These functions will not be directly callable after loading.\n"
     ]
    },
    {
     "name": "stdout",
     "output_type": "stream",
     "text": [
      "INFO:tensorflow:Assets written to: /home/avatar/avatar_project/wake_word_model/assets\n"
     ]
    },
    {
     "name": "stderr",
     "output_type": "stream",
     "text": [
      "INFO:tensorflow:Assets written to: /home/avatar/avatar_project/wake_word_model/assets\n"
     ]
    },
    {
     "name": "stdout",
     "output_type": "stream",
     "text": [
      "197/197 [==============================] - 7s 34ms/step - loss: 0.6207 - accuracy: 0.6515 - val_loss: 0.5985 - val_accuracy: 0.6974\n",
      "Epoch 4/2000\n",
      "196/197 [============================>.] - ETA: 0s - loss: 0.6069 - accuracy: 0.6657"
     ]
    },
    {
     "name": "stderr",
     "output_type": "stream",
     "text": [
      "WARNING:absl:Found untraced functions such as _jit_compiled_convolution_op, _jit_compiled_convolution_op, gru_cell_layer_call_fn, gru_cell_layer_call_and_return_conditional_losses while saving (showing 4 of 4). These functions will not be directly callable after loading.\n"
     ]
    },
    {
     "name": "stdout",
     "output_type": "stream",
     "text": [
      "INFO:tensorflow:Assets written to: /home/avatar/avatar_project/wake_word_model/assets\n"
     ]
    },
    {
     "name": "stderr",
     "output_type": "stream",
     "text": [
      "INFO:tensorflow:Assets written to: /home/avatar/avatar_project/wake_word_model/assets\n"
     ]
    },
    {
     "name": "stdout",
     "output_type": "stream",
     "text": [
      "197/197 [==============================] - 6s 33ms/step - loss: 0.6069 - accuracy: 0.6654 - val_loss: 0.6066 - val_accuracy: 0.6684\n",
      "Epoch 5/2000\n",
      "197/197 [==============================] - 4s 22ms/step - loss: 0.5898 - accuracy: 0.6888 - val_loss: 0.6013 - val_accuracy: 0.6842\n",
      "Epoch 6/2000\n",
      "196/197 [============================>.] - ETA: 0s - loss: 0.5702 - accuracy: 0.7034"
     ]
    },
    {
     "name": "stderr",
     "output_type": "stream",
     "text": [
      "WARNING:absl:Found untraced functions such as _jit_compiled_convolution_op, _jit_compiled_convolution_op, gru_cell_layer_call_fn, gru_cell_layer_call_and_return_conditional_losses while saving (showing 4 of 4). These functions will not be directly callable after loading.\n"
     ]
    },
    {
     "name": "stdout",
     "output_type": "stream",
     "text": [
      "INFO:tensorflow:Assets written to: /home/avatar/avatar_project/wake_word_model/assets\n"
     ]
    },
    {
     "name": "stderr",
     "output_type": "stream",
     "text": [
      "INFO:tensorflow:Assets written to: /home/avatar/avatar_project/wake_word_model/assets\n"
     ]
    },
    {
     "name": "stdout",
     "output_type": "stream",
     "text": [
      "197/197 [==============================] - 7s 34ms/step - loss: 0.5709 - accuracy: 0.7028 - val_loss: 0.6990 - val_accuracy: 0.5868\n",
      "Epoch 7/2000\n",
      "197/197 [==============================] - 4s 22ms/step - loss: 0.5483 - accuracy: 0.7145 - val_loss: 0.6552 - val_accuracy: 0.6263\n",
      "Epoch 8/2000\n",
      "197/197 [==============================] - 4s 22ms/step - loss: 0.5752 - accuracy: 0.7067 - val_loss: 0.6522 - val_accuracy: 0.6421\n",
      "Epoch 9/2000\n",
      "197/197 [==============================] - 4s 22ms/step - loss: 0.5274 - accuracy: 0.7282 - val_loss: 0.6038 - val_accuracy: 0.6684\n",
      "Epoch 10/2000\n",
      "197/197 [==============================] - 4s 22ms/step - loss: 0.5255 - accuracy: 0.7282 - val_loss: 0.6558 - val_accuracy: 0.6395\n",
      "Epoch 11/2000\n",
      "197/197 [==============================] - 4s 22ms/step - loss: 0.4808 - accuracy: 0.7614 - val_loss: 0.6240 - val_accuracy: 0.6763\n",
      "Epoch 12/2000\n",
      "196/197 [============================>.] - ETA: 0s - loss: 0.4860 - accuracy: 0.7577"
     ]
    },
    {
     "name": "stderr",
     "output_type": "stream",
     "text": [
      "WARNING:absl:Found untraced functions such as _jit_compiled_convolution_op, _jit_compiled_convolution_op, gru_cell_layer_call_fn, gru_cell_layer_call_and_return_conditional_losses while saving (showing 4 of 4). These functions will not be directly callable after loading.\n"
     ]
    },
    {
     "name": "stdout",
     "output_type": "stream",
     "text": [
      "INFO:tensorflow:Assets written to: /home/avatar/avatar_project/wake_word_model/assets\n"
     ]
    },
    {
     "name": "stderr",
     "output_type": "stream",
     "text": [
      "INFO:tensorflow:Assets written to: /home/avatar/avatar_project/wake_word_model/assets\n"
     ]
    },
    {
     "name": "stdout",
     "output_type": "stream",
     "text": [
      "197/197 [==============================] - 6s 33ms/step - loss: 0.4862 - accuracy: 0.7571 - val_loss: 0.7463 - val_accuracy: 0.6184\n",
      "Epoch 13/2000\n",
      "196/197 [============================>.] - ETA: 0s - loss: 0.4804 - accuracy: 0.7645"
     ]
    },
    {
     "name": "stderr",
     "output_type": "stream",
     "text": [
      "WARNING:absl:Found untraced functions such as _jit_compiled_convolution_op, _jit_compiled_convolution_op, gru_cell_layer_call_fn, gru_cell_layer_call_and_return_conditional_losses while saving (showing 4 of 4). These functions will not be directly callable after loading.\n"
     ]
    },
    {
     "name": "stdout",
     "output_type": "stream",
     "text": [
      "INFO:tensorflow:Assets written to: /home/avatar/avatar_project/wake_word_model/assets\n"
     ]
    },
    {
     "name": "stderr",
     "output_type": "stream",
     "text": [
      "INFO:tensorflow:Assets written to: /home/avatar/avatar_project/wake_word_model/assets\n"
     ]
    },
    {
     "name": "stdout",
     "output_type": "stream",
     "text": [
      "197/197 [==============================] - 7s 35ms/step - loss: 0.4800 - accuracy: 0.7650 - val_loss: 0.7642 - val_accuracy: 0.5737\n",
      "Epoch 14/2000\n",
      "197/197 [==============================] - 4s 22ms/step - loss: 0.4479 - accuracy: 0.7841 - val_loss: 0.6410 - val_accuracy: 0.6763\n",
      "Epoch 15/2000\n",
      "197/197 [==============================] - 4s 22ms/step - loss: 0.4199 - accuracy: 0.8104 - val_loss: 0.6816 - val_accuracy: 0.6474\n",
      "Epoch 16/2000\n",
      "196/197 [============================>.] - ETA: 0s - loss: 0.3759 - accuracy: 0.8356"
     ]
    },
    {
     "name": "stderr",
     "output_type": "stream",
     "text": [
      "WARNING:absl:Found untraced functions such as _jit_compiled_convolution_op, _jit_compiled_convolution_op, gru_cell_layer_call_fn, gru_cell_layer_call_and_return_conditional_losses while saving (showing 4 of 4). These functions will not be directly callable after loading.\n"
     ]
    },
    {
     "name": "stdout",
     "output_type": "stream",
     "text": [
      "INFO:tensorflow:Assets written to: /home/avatar/avatar_project/wake_word_model/assets\n"
     ]
    },
    {
     "name": "stderr",
     "output_type": "stream",
     "text": [
      "INFO:tensorflow:Assets written to: /home/avatar/avatar_project/wake_word_model/assets\n"
     ]
    },
    {
     "name": "stdout",
     "output_type": "stream",
     "text": [
      "197/197 [==============================] - 6s 32ms/step - loss: 0.3769 - accuracy: 0.8347 - val_loss: 0.7924 - val_accuracy: 0.6105\n",
      "Epoch 17/2000\n",
      "197/197 [==============================] - 4s 21ms/step - loss: 0.4501 - accuracy: 0.7907 - val_loss: 0.6749 - val_accuracy: 0.6763\n",
      "Epoch 18/2000\n",
      "197/197 [==============================] - 4s 22ms/step - loss: 0.3602 - accuracy: 0.8517 - val_loss: 0.6122 - val_accuracy: 0.7079\n",
      "Epoch 19/2000\n",
      "197/197 [==============================] - 4s 22ms/step - loss: 0.3379 - accuracy: 0.8598 - val_loss: 0.6462 - val_accuracy: 0.7026\n",
      "Epoch 20/2000\n",
      "197/197 [==============================] - 4s 22ms/step - loss: 0.3092 - accuracy: 0.8825 - val_loss: 0.6275 - val_accuracy: 0.7211\n",
      "Epoch 21/2000\n",
      "196/197 [============================>.] - ETA: 0s - loss: 0.3006 - accuracy: 0.8807"
     ]
    },
    {
     "name": "stderr",
     "output_type": "stream",
     "text": [
      "WARNING:absl:Found untraced functions such as _jit_compiled_convolution_op, _jit_compiled_convolution_op, gru_cell_layer_call_fn, gru_cell_layer_call_and_return_conditional_losses while saving (showing 4 of 4). These functions will not be directly callable after loading.\n"
     ]
    },
    {
     "name": "stdout",
     "output_type": "stream",
     "text": [
      "INFO:tensorflow:Assets written to: /home/avatar/avatar_project/wake_word_model/assets\n"
     ]
    },
    {
     "name": "stderr",
     "output_type": "stream",
     "text": [
      "INFO:tensorflow:Assets written to: /home/avatar/avatar_project/wake_word_model/assets\n"
     ]
    },
    {
     "name": "stdout",
     "output_type": "stream",
     "text": [
      "197/197 [==============================] - 7s 35ms/step - loss: 0.3002 - accuracy: 0.8808 - val_loss: 0.8024 - val_accuracy: 0.6658\n",
      "Epoch 22/2000\n",
      "197/197 [==============================] - 4s 21ms/step - loss: 0.2833 - accuracy: 0.8900 - val_loss: 0.6380 - val_accuracy: 0.7237\n",
      "Epoch 23/2000\n",
      "197/197 [==============================] - 4s 22ms/step - loss: 0.2597 - accuracy: 0.9049 - val_loss: 0.6163 - val_accuracy: 0.7632\n",
      "Epoch 24/2000\n",
      "197/197 [==============================] - 4s 22ms/step - loss: 0.2530 - accuracy: 0.9017 - val_loss: 0.5463 - val_accuracy: 0.7632\n",
      "Epoch 25/2000\n",
      "197/197 [==============================] - 4s 22ms/step - loss: 0.2623 - accuracy: 0.9017 - val_loss: 0.6500 - val_accuracy: 0.7526\n",
      "Epoch 26/2000\n",
      "197/197 [==============================] - 4s 22ms/step - loss: 0.2274 - accuracy: 0.9160 - val_loss: 0.6276 - val_accuracy: 0.7605\n",
      "Epoch 27/2000\n",
      "197/197 [==============================] - 4s 22ms/step - loss: 0.2347 - accuracy: 0.9141 - val_loss: 0.5729 - val_accuracy: 0.7842\n",
      "Epoch 28/2000\n",
      "197/197 [==============================] - 4s 22ms/step - loss: 0.2131 - accuracy: 0.9224 - val_loss: 0.6384 - val_accuracy: 0.7447\n",
      "Epoch 29/2000\n",
      "197/197 [==============================] - 4s 22ms/step - loss: 0.2028 - accuracy: 0.9238 - val_loss: 0.5956 - val_accuracy: 0.7842\n",
      "Epoch 30/2000\n",
      "197/197 [==============================] - 4s 22ms/step - loss: 0.2076 - accuracy: 0.9208 - val_loss: 0.6773 - val_accuracy: 0.7395\n",
      "Epoch 31/2000\n",
      "197/197 [==============================] - 4s 22ms/step - loss: 0.2122 - accuracy: 0.9184 - val_loss: 0.6590 - val_accuracy: 0.7737\n",
      "Epoch 32/2000\n",
      "197/197 [==============================] - 4s 22ms/step - loss: 0.1903 - accuracy: 0.9285 - val_loss: 0.6167 - val_accuracy: 0.7947\n",
      "Epoch 33/2000\n",
      "197/197 [==============================] - 4s 22ms/step - loss: 0.1897 - accuracy: 0.9311 - val_loss: 0.6692 - val_accuracy: 0.7632\n",
      "Epoch 34/2000\n",
      "197/197 [==============================] - 4s 22ms/step - loss: 0.1877 - accuracy: 0.9297 - val_loss: 0.5940 - val_accuracy: 0.7789\n",
      "Epoch 35/2000\n",
      "197/197 [==============================] - 4s 22ms/step - loss: 0.1755 - accuracy: 0.9365 - val_loss: 0.5646 - val_accuracy: 0.7921\n",
      "Epoch 36/2000\n",
      "197/197 [==============================] - 4s 22ms/step - loss: 0.1714 - accuracy: 0.9371 - val_loss: 0.6277 - val_accuracy: 0.7684\n",
      "Epoch 37/2000\n",
      "197/197 [==============================] - 4s 22ms/step - loss: 0.1680 - accuracy: 0.9390 - val_loss: 0.7005 - val_accuracy: 0.7763\n",
      "Epoch 38/2000\n",
      "197/197 [==============================] - 4s 22ms/step - loss: 0.1691 - accuracy: 0.9363 - val_loss: 0.7024 - val_accuracy: 0.7447\n",
      "Epoch 39/2000\n",
      "197/197 [==============================] - 4s 22ms/step - loss: 0.1687 - accuracy: 0.9344 - val_loss: 0.6769 - val_accuracy: 0.7763\n",
      "Epoch 40/2000\n",
      "197/197 [==============================] - 4s 22ms/step - loss: 0.1624 - accuracy: 0.9387 - val_loss: 0.7745 - val_accuracy: 0.7605\n",
      "Epoch 41/2000\n",
      "197/197 [==============================] - 4s 22ms/step - loss: 0.1567 - accuracy: 0.9384 - val_loss: 0.7340 - val_accuracy: 0.7579\n",
      "Epoch 42/2000\n",
      "196/197 [============================>.] - ETA: 0s - loss: 0.1544 - accuracy: 0.9408"
     ]
    },
    {
     "name": "stderr",
     "output_type": "stream",
     "text": [
      "WARNING:absl:Found untraced functions such as _jit_compiled_convolution_op, _jit_compiled_convolution_op, gru_cell_layer_call_fn, gru_cell_layer_call_and_return_conditional_losses while saving (showing 4 of 4). These functions will not be directly callable after loading.\n"
     ]
    },
    {
     "name": "stdout",
     "output_type": "stream",
     "text": [
      "INFO:tensorflow:Assets written to: /home/avatar/avatar_project/wake_word_model/assets\n"
     ]
    },
    {
     "name": "stderr",
     "output_type": "stream",
     "text": [
      "INFO:tensorflow:Assets written to: /home/avatar/avatar_project/wake_word_model/assets\n"
     ]
    },
    {
     "name": "stdout",
     "output_type": "stream",
     "text": [
      "197/197 [==============================] - 6s 33ms/step - loss: 0.1544 - accuracy: 0.9408 - val_loss: 0.8094 - val_accuracy: 0.7263\n",
      "Epoch 43/2000\n",
      "197/197 [==============================] - 4s 21ms/step - loss: 0.1584 - accuracy: 0.9398 - val_loss: 0.6088 - val_accuracy: 0.7842\n",
      "Epoch 44/2000\n",
      "197/197 [==============================] - 4s 22ms/step - loss: 0.1498 - accuracy: 0.9386 - val_loss: 0.5451 - val_accuracy: 0.8026\n",
      "Epoch 45/2000\n",
      "197/197 [==============================] - 4s 22ms/step - loss: 0.1480 - accuracy: 0.9441 - val_loss: 0.6374 - val_accuracy: 0.7947\n",
      "Epoch 46/2000\n",
      "197/197 [==============================] - 4s 22ms/step - loss: 0.1541 - accuracy: 0.9384 - val_loss: 0.6681 - val_accuracy: 0.7868\n",
      "Epoch 47/2000\n",
      "197/197 [==============================] - 4s 22ms/step - loss: 0.1498 - accuracy: 0.9422 - val_loss: 0.7145 - val_accuracy: 0.7632\n",
      "Epoch 48/2000\n",
      "197/197 [==============================] - 4s 22ms/step - loss: 0.1548 - accuracy: 0.9414 - val_loss: 0.5756 - val_accuracy: 0.8368\n",
      "Epoch 49/2000\n",
      "197/197 [==============================] - 4s 22ms/step - loss: 0.1438 - accuracy: 0.9440 - val_loss: 0.5383 - val_accuracy: 0.8079\n",
      "Epoch 50/2000\n",
      "197/197 [==============================] - 4s 22ms/step - loss: 0.1613 - accuracy: 0.9330 - val_loss: 0.5129 - val_accuracy: 0.8263\n",
      "Epoch 51/2000\n",
      "197/197 [==============================] - 4s 22ms/step - loss: 0.1273 - accuracy: 0.9509 - val_loss: 0.6095 - val_accuracy: 0.8105\n",
      "Epoch 52/2000\n",
      "197/197 [==============================] - 4s 21ms/step - loss: 0.1266 - accuracy: 0.9516 - val_loss: 0.5323 - val_accuracy: 0.8316\n",
      "Epoch 53/2000\n",
      "197/197 [==============================] - 4s 21ms/step - loss: 0.1336 - accuracy: 0.9493 - val_loss: 0.6150 - val_accuracy: 0.7816\n",
      "Epoch 54/2000\n",
      "197/197 [==============================] - 4s 21ms/step - loss: 0.1257 - accuracy: 0.9528 - val_loss: 0.5765 - val_accuracy: 0.8132\n",
      "Epoch 55/2000\n",
      "197/197 [==============================] - 4s 22ms/step - loss: 0.1365 - accuracy: 0.9455 - val_loss: 0.7133 - val_accuracy: 0.7974\n",
      "Epoch 56/2000\n",
      "196/197 [============================>.] - ETA: 0s - loss: 0.1445 - accuracy: 0.9416"
     ]
    },
    {
     "name": "stderr",
     "output_type": "stream",
     "text": [
      "WARNING:absl:Found untraced functions such as _jit_compiled_convolution_op, _jit_compiled_convolution_op, gru_cell_layer_call_fn, gru_cell_layer_call_and_return_conditional_losses while saving (showing 4 of 4). These functions will not be directly callable after loading.\n"
     ]
    },
    {
     "name": "stdout",
     "output_type": "stream",
     "text": [
      "INFO:tensorflow:Assets written to: /home/avatar/avatar_project/wake_word_model/assets\n"
     ]
    },
    {
     "name": "stderr",
     "output_type": "stream",
     "text": [
      "INFO:tensorflow:Assets written to: /home/avatar/avatar_project/wake_word_model/assets\n"
     ]
    },
    {
     "name": "stdout",
     "output_type": "stream",
     "text": [
      "197/197 [==============================] - 7s 35ms/step - loss: 0.1454 - accuracy: 0.9416 - val_loss: 0.9830 - val_accuracy: 0.7342\n",
      "Epoch 57/2000\n",
      "197/197 [==============================] - 4s 22ms/step - loss: 0.1479 - accuracy: 0.9416 - val_loss: 0.5862 - val_accuracy: 0.8079\n",
      "Epoch 58/2000\n",
      "197/197 [==============================] - 4s 22ms/step - loss: 0.1252 - accuracy: 0.9517 - val_loss: 0.6444 - val_accuracy: 0.8026\n",
      "Epoch 59/2000\n",
      "197/197 [==============================] - 4s 22ms/step - loss: 0.1183 - accuracy: 0.9549 - val_loss: 0.5392 - val_accuracy: 0.8237\n",
      "Epoch 60/2000\n",
      "197/197 [==============================] - 4s 22ms/step - loss: 0.1198 - accuracy: 0.9528 - val_loss: 0.6740 - val_accuracy: 0.7921\n",
      "Epoch 61/2000\n",
      "197/197 [==============================] - 4s 22ms/step - loss: 0.1083 - accuracy: 0.9592 - val_loss: 0.6166 - val_accuracy: 0.8211\n",
      "Epoch 62/2000\n",
      "197/197 [==============================] - 4s 22ms/step - loss: 0.1077 - accuracy: 0.9598 - val_loss: 0.6367 - val_accuracy: 0.8158\n",
      "Epoch 63/2000\n",
      "197/197 [==============================] - 4s 22ms/step - loss: 0.1092 - accuracy: 0.9565 - val_loss: 0.7113 - val_accuracy: 0.7684\n",
      "Epoch 64/2000\n",
      "197/197 [==============================] - 4s 22ms/step - loss: 0.1176 - accuracy: 0.9549 - val_loss: 0.5895 - val_accuracy: 0.8368\n",
      "Epoch 65/2000\n",
      "197/197 [==============================] - 4s 22ms/step - loss: 0.1081 - accuracy: 0.9563 - val_loss: 0.6593 - val_accuracy: 0.8132\n",
      "Epoch 66/2000\n",
      "197/197 [==============================] - 4s 22ms/step - loss: 0.1118 - accuracy: 0.9589 - val_loss: 0.5840 - val_accuracy: 0.8132\n",
      "Epoch 67/2000\n",
      "197/197 [==============================] - 4s 22ms/step - loss: 0.1013 - accuracy: 0.9646 - val_loss: 0.5632 - val_accuracy: 0.8447\n",
      "Epoch 68/2000\n",
      "197/197 [==============================] - 4s 22ms/step - loss: 0.1006 - accuracy: 0.9622 - val_loss: 0.5776 - val_accuracy: 0.8395\n",
      "Epoch 69/2000\n",
      "197/197 [==============================] - 4s 22ms/step - loss: 0.0994 - accuracy: 0.9648 - val_loss: 0.9025 - val_accuracy: 0.7658\n",
      "Epoch 70/2000\n",
      "197/197 [==============================] - 4s 22ms/step - loss: 0.1014 - accuracy: 0.9630 - val_loss: 0.4687 - val_accuracy: 0.8395\n",
      "Epoch 71/2000\n",
      "197/197 [==============================] - 4s 22ms/step - loss: 0.1013 - accuracy: 0.9608 - val_loss: 0.5726 - val_accuracy: 0.8026\n",
      "Epoch 72/2000\n",
      "197/197 [==============================] - 4s 22ms/step - loss: 0.1081 - accuracy: 0.9609 - val_loss: 0.6814 - val_accuracy: 0.8184\n",
      "Epoch 73/2000\n",
      "197/197 [==============================] - 4s 22ms/step - loss: 0.1050 - accuracy: 0.9594 - val_loss: 0.5461 - val_accuracy: 0.8289\n",
      "Epoch 74/2000\n",
      "197/197 [==============================] - 4s 22ms/step - loss: 0.1091 - accuracy: 0.9589 - val_loss: 0.5704 - val_accuracy: 0.8395\n",
      "Epoch 75/2000\n",
      "197/197 [==============================] - 4s 22ms/step - loss: 0.0974 - accuracy: 0.9638 - val_loss: 0.5732 - val_accuracy: 0.8316\n",
      "Epoch 76/2000\n",
      "197/197 [==============================] - 4s 22ms/step - loss: 0.1008 - accuracy: 0.9617 - val_loss: 0.6593 - val_accuracy: 0.8184\n",
      "Epoch 77/2000\n",
      "197/197 [==============================] - 4s 22ms/step - loss: 0.0871 - accuracy: 0.9673 - val_loss: 0.5571 - val_accuracy: 0.8368\n",
      "Epoch 78/2000\n",
      "197/197 [==============================] - 4s 22ms/step - loss: 0.0886 - accuracy: 0.9638 - val_loss: 0.5898 - val_accuracy: 0.8316\n",
      "Epoch 79/2000\n",
      "197/197 [==============================] - 4s 22ms/step - loss: 0.0850 - accuracy: 0.9679 - val_loss: 0.5785 - val_accuracy: 0.8500\n",
      "Epoch 80/2000\n",
      "197/197 [==============================] - 4s 22ms/step - loss: 0.0923 - accuracy: 0.9646 - val_loss: 0.5715 - val_accuracy: 0.8263\n",
      "Epoch 81/2000\n",
      "197/197 [==============================] - 4s 22ms/step - loss: 0.0900 - accuracy: 0.9651 - val_loss: 0.5208 - val_accuracy: 0.8553\n",
      "Epoch 82/2000\n",
      "197/197 [==============================] - 4s 22ms/step - loss: 0.0951 - accuracy: 0.9619 - val_loss: 0.5624 - val_accuracy: 0.8500\n",
      "Epoch 83/2000\n",
      "197/197 [==============================] - 4s 22ms/step - loss: 0.0864 - accuracy: 0.9662 - val_loss: 0.6286 - val_accuracy: 0.8342\n",
      "Epoch 84/2000\n",
      "197/197 [==============================] - 4s 22ms/step - loss: 0.0833 - accuracy: 0.9686 - val_loss: 0.5765 - val_accuracy: 0.8474\n",
      "Epoch 85/2000\n",
      "197/197 [==============================] - 4s 21ms/step - loss: 0.0856 - accuracy: 0.9670 - val_loss: 0.6381 - val_accuracy: 0.7789\n",
      "Epoch 86/2000\n",
      "197/197 [==============================] - 4s 22ms/step - loss: 0.0941 - accuracy: 0.9628 - val_loss: 0.7145 - val_accuracy: 0.8368\n",
      "Epoch 87/2000\n",
      "197/197 [==============================] - 4s 22ms/step - loss: 0.0852 - accuracy: 0.9644 - val_loss: 0.5812 - val_accuracy: 0.8500\n",
      "Epoch 88/2000\n",
      "197/197 [==============================] - 4s 22ms/step - loss: 0.0745 - accuracy: 0.9717 - val_loss: 0.6964 - val_accuracy: 0.8079\n",
      "Epoch 89/2000\n",
      "197/197 [==============================] - 4s 22ms/step - loss: 0.0792 - accuracy: 0.9705 - val_loss: 0.5366 - val_accuracy: 0.8579\n",
      "Epoch 90/2000\n",
      "197/197 [==============================] - 4s 22ms/step - loss: 0.0846 - accuracy: 0.9665 - val_loss: 0.6677 - val_accuracy: 0.7947\n",
      "Epoch 91/2000\n",
      "197/197 [==============================] - 4s 22ms/step - loss: 0.0735 - accuracy: 0.9727 - val_loss: 0.5475 - val_accuracy: 0.8553\n",
      "Epoch 92/2000\n",
      "197/197 [==============================] - 4s 22ms/step - loss: 0.0750 - accuracy: 0.9705 - val_loss: 0.6509 - val_accuracy: 0.8474\n",
      "Epoch 93/2000\n",
      "197/197 [==============================] - 4s 22ms/step - loss: 0.0849 - accuracy: 0.9655 - val_loss: 0.5498 - val_accuracy: 0.8368\n",
      "Epoch 94/2000\n",
      "197/197 [==============================] - 4s 22ms/step - loss: 0.0725 - accuracy: 0.9735 - val_loss: 0.7197 - val_accuracy: 0.8447\n",
      "Epoch 95/2000\n",
      "197/197 [==============================] - 4s 22ms/step - loss: 0.0779 - accuracy: 0.9684 - val_loss: 0.6124 - val_accuracy: 0.8474\n",
      "Epoch 96/2000\n",
      "197/197 [==============================] - 4s 22ms/step - loss: 0.0741 - accuracy: 0.9709 - val_loss: 0.6937 - val_accuracy: 0.8132\n",
      "Epoch 97/2000\n",
      "197/197 [==============================] - 4s 22ms/step - loss: 0.0711 - accuracy: 0.9724 - val_loss: 0.6435 - val_accuracy: 0.8289\n",
      "Epoch 98/2000\n",
      "197/197 [==============================] - 4s 22ms/step - loss: 0.0776 - accuracy: 0.9697 - val_loss: 0.5844 - val_accuracy: 0.8368\n",
      "Epoch 99/2000\n",
      "197/197 [==============================] - 4s 22ms/step - loss: 0.0699 - accuracy: 0.9738 - val_loss: 0.5784 - val_accuracy: 0.8368\n",
      "Epoch 100/2000\n",
      "197/197 [==============================] - 4s 22ms/step - loss: 0.0734 - accuracy: 0.9716 - val_loss: 0.7964 - val_accuracy: 0.8053\n",
      "Epoch 101/2000\n",
      "197/197 [==============================] - 4s 22ms/step - loss: 0.0656 - accuracy: 0.9767 - val_loss: 0.6314 - val_accuracy: 0.8421\n",
      "Epoch 102/2000\n",
      "197/197 [==============================] - 4s 22ms/step - loss: 0.0670 - accuracy: 0.9760 - val_loss: 0.6695 - val_accuracy: 0.8237\n",
      "Epoch 103/2000\n",
      "197/197 [==============================] - 4s 22ms/step - loss: 0.0657 - accuracy: 0.9746 - val_loss: 0.6445 - val_accuracy: 0.8474\n",
      "Epoch 104/2000\n",
      "197/197 [==============================] - 4s 22ms/step - loss: 0.0632 - accuracy: 0.9768 - val_loss: 0.4920 - val_accuracy: 0.8079\n",
      "Epoch 105/2000\n",
      "197/197 [==============================] - 4s 22ms/step - loss: 0.0670 - accuracy: 0.9735 - val_loss: 0.5894 - val_accuracy: 0.8500\n",
      "Epoch 106/2000\n",
      "197/197 [==============================] - 4s 22ms/step - loss: 0.0619 - accuracy: 0.9768 - val_loss: 0.4391 - val_accuracy: 0.8684\n",
      "Epoch 107/2000\n",
      "197/197 [==============================] - 4s 22ms/step - loss: 0.0712 - accuracy: 0.9735 - val_loss: 0.4894 - val_accuracy: 0.8658\n",
      "Epoch 108/2000\n",
      "197/197 [==============================] - 4s 22ms/step - loss: 0.0728 - accuracy: 0.9714 - val_loss: 0.6716 - val_accuracy: 0.8289\n",
      "Epoch 109/2000\n",
      "197/197 [==============================] - 4s 22ms/step - loss: 0.0651 - accuracy: 0.9751 - val_loss: 0.5442 - val_accuracy: 0.8553\n",
      "Epoch 110/2000\n",
      "197/197 [==============================] - 4s 21ms/step - loss: 0.0620 - accuracy: 0.9771 - val_loss: 0.4788 - val_accuracy: 0.8816\n",
      "Epoch 111/2000\n",
      "197/197 [==============================] - 4s 22ms/step - loss: 0.0614 - accuracy: 0.9751 - val_loss: 0.6995 - val_accuracy: 0.8158\n",
      "Epoch 112/2000\n",
      "197/197 [==============================] - 4s 22ms/step - loss: 0.0517 - accuracy: 0.9794 - val_loss: 0.7047 - val_accuracy: 0.8237\n",
      "Epoch 113/2000\n",
      "197/197 [==============================] - 4s 22ms/step - loss: 0.0632 - accuracy: 0.9762 - val_loss: 0.5655 - val_accuracy: 0.8368\n",
      "Epoch 114/2000\n",
      "197/197 [==============================] - 4s 22ms/step - loss: 0.0663 - accuracy: 0.9752 - val_loss: 0.6350 - val_accuracy: 0.8368\n",
      "Epoch 115/2000\n",
      "197/197 [==============================] - 4s 22ms/step - loss: 0.0576 - accuracy: 0.9768 - val_loss: 0.5686 - val_accuracy: 0.8500\n",
      "Epoch 116/2000\n",
      "197/197 [==============================] - 4s 22ms/step - loss: 0.0574 - accuracy: 0.9782 - val_loss: 0.5603 - val_accuracy: 0.8632\n",
      "Epoch 117/2000\n",
      "197/197 [==============================] - 4s 22ms/step - loss: 0.0537 - accuracy: 0.9809 - val_loss: 0.6868 - val_accuracy: 0.8500\n",
      "Epoch 118/2000\n",
      "197/197 [==============================] - 4s 22ms/step - loss: 0.0598 - accuracy: 0.9775 - val_loss: 0.3757 - val_accuracy: 0.8711\n",
      "Epoch 119/2000\n",
      "197/197 [==============================] - 4s 22ms/step - loss: 0.0591 - accuracy: 0.9787 - val_loss: 0.5495 - val_accuracy: 0.8316\n",
      "Epoch 120/2000\n",
      "197/197 [==============================] - 4s 22ms/step - loss: 0.0541 - accuracy: 0.9802 - val_loss: 0.5063 - val_accuracy: 0.8658\n",
      "Epoch 121/2000\n",
      "197/197 [==============================] - 4s 22ms/step - loss: 0.0609 - accuracy: 0.9763 - val_loss: 0.5850 - val_accuracy: 0.7974\n",
      "Epoch 122/2000\n",
      "197/197 [==============================] - 4s 22ms/step - loss: 0.0560 - accuracy: 0.9781 - val_loss: 0.6048 - val_accuracy: 0.8632\n",
      "Epoch 123/2000\n",
      "197/197 [==============================] - 4s 22ms/step - loss: 0.0534 - accuracy: 0.9806 - val_loss: 0.5996 - val_accuracy: 0.8447\n",
      "Epoch 124/2000\n",
      "197/197 [==============================] - 4s 22ms/step - loss: 0.0513 - accuracy: 0.9809 - val_loss: 0.5285 - val_accuracy: 0.8579\n",
      "Epoch 125/2000\n",
      "197/197 [==============================] - 4s 22ms/step - loss: 0.0611 - accuracy: 0.9749 - val_loss: 0.5012 - val_accuracy: 0.8632\n",
      "Epoch 126/2000\n",
      "197/197 [==============================] - 4s 22ms/step - loss: 0.0561 - accuracy: 0.9779 - val_loss: 0.6352 - val_accuracy: 0.8316\n",
      "Epoch 127/2000\n",
      "197/197 [==============================] - 4s 22ms/step - loss: 0.0551 - accuracy: 0.9789 - val_loss: 0.5855 - val_accuracy: 0.8553\n",
      "Epoch 128/2000\n",
      "197/197 [==============================] - 4s 22ms/step - loss: 0.0496 - accuracy: 0.9805 - val_loss: 0.7263 - val_accuracy: 0.8237\n",
      "Epoch 129/2000\n",
      "197/197 [==============================] - 4s 22ms/step - loss: 0.0467 - accuracy: 0.9808 - val_loss: 0.7035 - val_accuracy: 0.8316\n",
      "Epoch 130/2000\n",
      "197/197 [==============================] - 4s 22ms/step - loss: 0.0557 - accuracy: 0.9798 - val_loss: 0.5802 - val_accuracy: 0.8342\n",
      "Epoch 131/2000\n",
      "197/197 [==============================] - 4s 22ms/step - loss: 0.0460 - accuracy: 0.9833 - val_loss: 0.5046 - val_accuracy: 0.8737\n",
      "Epoch 132/2000\n",
      "197/197 [==============================] - 4s 22ms/step - loss: 0.0424 - accuracy: 0.9840 - val_loss: 0.5869 - val_accuracy: 0.8553\n",
      "Epoch 133/2000\n",
      "197/197 [==============================] - 4s 22ms/step - loss: 0.0500 - accuracy: 0.9809 - val_loss: 0.5007 - val_accuracy: 0.8711\n",
      "Epoch 134/2000\n",
      "197/197 [==============================] - 4s 22ms/step - loss: 0.0454 - accuracy: 0.9821 - val_loss: 0.6185 - val_accuracy: 0.8579\n",
      "Epoch 135/2000\n",
      "197/197 [==============================] - 4s 21ms/step - loss: 0.0625 - accuracy: 0.9759 - val_loss: 0.4901 - val_accuracy: 0.8526\n",
      "Epoch 136/2000\n",
      "197/197 [==============================] - 4s 21ms/step - loss: 0.0469 - accuracy: 0.9843 - val_loss: 0.4713 - val_accuracy: 0.8789\n",
      "Epoch 137/2000\n",
      "197/197 [==============================] - 4s 22ms/step - loss: 0.0481 - accuracy: 0.9817 - val_loss: 0.6675 - val_accuracy: 0.8395\n",
      "Epoch 138/2000\n",
      "197/197 [==============================] - 4s 21ms/step - loss: 0.0425 - accuracy: 0.9841 - val_loss: 0.3994 - val_accuracy: 0.8737\n",
      "Epoch 139/2000\n",
      "197/197 [==============================] - 4s 22ms/step - loss: 0.0498 - accuracy: 0.9816 - val_loss: 0.6435 - val_accuracy: 0.8421\n",
      "Epoch 140/2000\n",
      "197/197 [==============================] - 4s 22ms/step - loss: 0.0588 - accuracy: 0.9782 - val_loss: 0.7373 - val_accuracy: 0.8158\n",
      "Epoch 141/2000\n",
      "197/197 [==============================] - 4s 22ms/step - loss: 0.0480 - accuracy: 0.9827 - val_loss: 0.6612 - val_accuracy: 0.8316\n",
      "Epoch 142/2000\n",
      "197/197 [==============================] - 4s 22ms/step - loss: 0.0541 - accuracy: 0.9809 - val_loss: 0.5581 - val_accuracy: 0.8658\n",
      "Epoch 143/2000\n",
      "197/197 [==============================] - 4s 22ms/step - loss: 0.0453 - accuracy: 0.9846 - val_loss: 0.4626 - val_accuracy: 0.8868\n",
      "Epoch 144/2000\n",
      "197/197 [==============================] - 4s 22ms/step - loss: 0.0391 - accuracy: 0.9863 - val_loss: 0.5910 - val_accuracy: 0.8421\n",
      "Epoch 145/2000\n",
      "197/197 [==============================] - 4s 22ms/step - loss: 0.0388 - accuracy: 0.9863 - val_loss: 0.5147 - val_accuracy: 0.8684\n",
      "Epoch 146/2000\n",
      "197/197 [==============================] - 4s 20ms/step - loss: 0.0444 - accuracy: 0.9840 - val_loss: 0.6208 - val_accuracy: 0.8605\n",
      "Epoch 147/2000\n",
      "197/197 [==============================] - 4s 21ms/step - loss: 0.0432 - accuracy: 0.9844 - val_loss: 0.9095 - val_accuracy: 0.8105\n",
      "Epoch 148/2000\n",
      "197/197 [==============================] - 4s 22ms/step - loss: 0.0404 - accuracy: 0.9862 - val_loss: 0.6381 - val_accuracy: 0.8289\n",
      "Epoch 149/2000\n",
      "197/197 [==============================] - 4s 22ms/step - loss: 0.0408 - accuracy: 0.9844 - val_loss: 0.5614 - val_accuracy: 0.8421\n",
      "Epoch 150/2000\n",
      "197/197 [==============================] - 4s 22ms/step - loss: 0.0454 - accuracy: 0.9821 - val_loss: 0.4981 - val_accuracy: 0.8658\n",
      "Epoch 151/2000\n",
      "197/197 [==============================] - 4s 21ms/step - loss: 0.0372 - accuracy: 0.9857 - val_loss: 0.4989 - val_accuracy: 0.8447\n",
      "Epoch 152/2000\n",
      "197/197 [==============================] - 4s 23ms/step - loss: 0.0409 - accuracy: 0.9844 - val_loss: 0.5687 - val_accuracy: 0.8579\n",
      "Epoch 153/2000\n",
      "197/197 [==============================] - 4s 22ms/step - loss: 0.0410 - accuracy: 0.9838 - val_loss: 0.5566 - val_accuracy: 0.8158\n",
      "Epoch 154/2000\n",
      "197/197 [==============================] - 4s 22ms/step - loss: 0.0409 - accuracy: 0.9862 - val_loss: 0.6256 - val_accuracy: 0.8500\n",
      "Epoch 155/2000\n",
      "197/197 [==============================] - 4s 22ms/step - loss: 0.0457 - accuracy: 0.9832 - val_loss: 0.5549 - val_accuracy: 0.8684\n",
      "Epoch 156/2000\n",
      "197/197 [==============================] - 4s 22ms/step - loss: 0.0387 - accuracy: 0.9852 - val_loss: 0.5420 - val_accuracy: 0.8632\n",
      "Epoch 157/2000\n",
      "196/197 [============================>.] - ETA: 0s - loss: 0.0337 - accuracy: 0.9864"
     ]
    },
    {
     "name": "stderr",
     "output_type": "stream",
     "text": [
      "WARNING:absl:Found untraced functions such as _jit_compiled_convolution_op, _jit_compiled_convolution_op, gru_cell_layer_call_fn, gru_cell_layer_call_and_return_conditional_losses while saving (showing 4 of 4). These functions will not be directly callable after loading.\n"
     ]
    },
    {
     "name": "stdout",
     "output_type": "stream",
     "text": [
      "INFO:tensorflow:Assets written to: /home/avatar/avatar_project/wake_word_model/assets\n"
     ]
    },
    {
     "name": "stderr",
     "output_type": "stream",
     "text": [
      "INFO:tensorflow:Assets written to: /home/avatar/avatar_project/wake_word_model/assets\n"
     ]
    },
    {
     "name": "stdout",
     "output_type": "stream",
     "text": [
      "197/197 [==============================] - 7s 33ms/step - loss: 0.0336 - accuracy: 0.9865 - val_loss: 1.0178 - val_accuracy: 0.7579\n",
      "Epoch 158/2000\n",
      "197/197 [==============================] - 4s 22ms/step - loss: 0.0433 - accuracy: 0.9843 - val_loss: 0.6862 - val_accuracy: 0.8184\n",
      "Epoch 159/2000\n",
      "197/197 [==============================] - 4s 22ms/step - loss: 0.0486 - accuracy: 0.9803 - val_loss: 0.6697 - val_accuracy: 0.8421\n",
      "Epoch 160/2000\n",
      "197/197 [==============================] - 4s 22ms/step - loss: 0.0587 - accuracy: 0.9755 - val_loss: 0.6288 - val_accuracy: 0.8579\n",
      "Epoch 161/2000\n",
      "197/197 [==============================] - 4s 22ms/step - loss: 0.0384 - accuracy: 0.9854 - val_loss: 0.6871 - val_accuracy: 0.8368\n",
      "Epoch 162/2000\n",
      "197/197 [==============================] - 4s 22ms/step - loss: 0.0439 - accuracy: 0.9851 - val_loss: 0.5050 - val_accuracy: 0.8737\n",
      "Epoch 163/2000\n",
      "197/197 [==============================] - 4s 22ms/step - loss: 0.0504 - accuracy: 0.9806 - val_loss: 0.5628 - val_accuracy: 0.8368\n",
      "Epoch 164/2000\n",
      "197/197 [==============================] - 4s 22ms/step - loss: 0.0350 - accuracy: 0.9870 - val_loss: 0.6505 - val_accuracy: 0.8421\n",
      "Epoch 165/2000\n",
      "197/197 [==============================] - 4s 22ms/step - loss: 0.0319 - accuracy: 0.9876 - val_loss: 0.6630 - val_accuracy: 0.8421\n",
      "Epoch 166/2000\n",
      "197/197 [==============================] - 4s 22ms/step - loss: 0.0349 - accuracy: 0.9875 - val_loss: 0.5293 - val_accuracy: 0.8763\n",
      "Epoch 167/2000\n",
      "197/197 [==============================] - 4s 22ms/step - loss: 0.0286 - accuracy: 0.9883 - val_loss: 0.6143 - val_accuracy: 0.8684\n",
      "Epoch 168/2000\n",
      "197/197 [==============================] - 4s 22ms/step - loss: 0.0348 - accuracy: 0.9863 - val_loss: 0.6515 - val_accuracy: 0.8553\n",
      "Epoch 169/2000\n",
      "197/197 [==============================] - 4s 22ms/step - loss: 0.0360 - accuracy: 0.9871 - val_loss: 0.5055 - val_accuracy: 0.8658\n",
      "Epoch 170/2000\n",
      "197/197 [==============================] - 4s 22ms/step - loss: 0.0488 - accuracy: 0.9846 - val_loss: 0.5164 - val_accuracy: 0.8211\n",
      "Epoch 171/2000\n",
      "197/197 [==============================] - 4s 22ms/step - loss: 0.0406 - accuracy: 0.9846 - val_loss: 0.5048 - val_accuracy: 0.8737\n",
      "Epoch 172/2000\n",
      "197/197 [==============================] - 4s 21ms/step - loss: 0.0302 - accuracy: 0.9890 - val_loss: 0.5005 - val_accuracy: 0.8842\n",
      "Epoch 173/2000\n",
      "197/197 [==============================] - 4s 22ms/step - loss: 0.0289 - accuracy: 0.9890 - val_loss: 0.5304 - val_accuracy: 0.8579\n",
      "Epoch 174/2000\n",
      "197/197 [==============================] - 4s 21ms/step - loss: 0.0283 - accuracy: 0.9898 - val_loss: 0.5144 - val_accuracy: 0.8868\n",
      "Epoch 175/2000\n",
      "197/197 [==============================] - 4s 22ms/step - loss: 0.0454 - accuracy: 0.9816 - val_loss: 0.5040 - val_accuracy: 0.8684\n",
      "Epoch 176/2000\n",
      "197/197 [==============================] - 4s 22ms/step - loss: 0.0338 - accuracy: 0.9868 - val_loss: 0.5732 - val_accuracy: 0.8632\n",
      "Epoch 177/2000\n",
      "197/197 [==============================] - 4s 22ms/step - loss: 0.0402 - accuracy: 0.9843 - val_loss: 0.4281 - val_accuracy: 0.8842\n",
      "Epoch 178/2000\n",
      "197/197 [==============================] - 4s 22ms/step - loss: 0.0298 - accuracy: 0.9895 - val_loss: 0.5267 - val_accuracy: 0.8737\n",
      "Epoch 179/2000\n",
      "197/197 [==============================] - 4s 22ms/step - loss: 0.0529 - accuracy: 0.9833 - val_loss: 0.5814 - val_accuracy: 0.8553\n",
      "Epoch 180/2000\n",
      "197/197 [==============================] - 4s 22ms/step - loss: 0.0285 - accuracy: 0.9886 - val_loss: 0.5261 - val_accuracy: 0.8737\n",
      "Epoch 181/2000\n",
      "197/197 [==============================] - 4s 22ms/step - loss: 0.0267 - accuracy: 0.9911 - val_loss: 0.6572 - val_accuracy: 0.8632\n",
      "Epoch 182/2000\n",
      "197/197 [==============================] - 4s 22ms/step - loss: 0.0315 - accuracy: 0.9879 - val_loss: 0.5321 - val_accuracy: 0.8632\n",
      "Epoch 183/2000\n",
      "197/197 [==============================] - 4s 21ms/step - loss: 0.0347 - accuracy: 0.9867 - val_loss: 0.6512 - val_accuracy: 0.8474\n",
      "Epoch 184/2000\n",
      "197/197 [==============================] - 4s 22ms/step - loss: 0.0323 - accuracy: 0.9878 - val_loss: 0.6857 - val_accuracy: 0.8342\n",
      "Epoch 185/2000\n",
      "197/197 [==============================] - 4s 22ms/step - loss: 0.0263 - accuracy: 0.9906 - val_loss: 0.6671 - val_accuracy: 0.8447\n",
      "Epoch 186/2000\n",
      "197/197 [==============================] - 4s 22ms/step - loss: 0.0447 - accuracy: 0.9836 - val_loss: 0.5822 - val_accuracy: 0.8474\n",
      "Epoch 187/2000\n",
      "197/197 [==============================] - 4s 22ms/step - loss: 0.0428 - accuracy: 0.9849 - val_loss: 0.5340 - val_accuracy: 0.8763\n",
      "Epoch 188/2000\n",
      "197/197 [==============================] - 4s 22ms/step - loss: 0.0324 - accuracy: 0.9887 - val_loss: 0.5815 - val_accuracy: 0.8474\n",
      "Epoch 189/2000\n",
      "197/197 [==============================] - 4s 22ms/step - loss: 0.0316 - accuracy: 0.9897 - val_loss: 0.7190 - val_accuracy: 0.8474\n",
      "Epoch 190/2000\n",
      "197/197 [==============================] - 4s 22ms/step - loss: 0.0264 - accuracy: 0.9898 - val_loss: 0.6292 - val_accuracy: 0.8263\n",
      "Epoch 191/2000\n",
      "197/197 [==============================] - 4s 22ms/step - loss: 0.0289 - accuracy: 0.9898 - val_loss: 0.8122 - val_accuracy: 0.8237\n",
      "Epoch 192/2000\n",
      "197/197 [==============================] - 4s 23ms/step - loss: 0.0292 - accuracy: 0.9886 - val_loss: 0.4688 - val_accuracy: 0.8895\n",
      "Epoch 193/2000\n",
      "197/197 [==============================] - 4s 19ms/step - loss: 0.0352 - accuracy: 0.9879 - val_loss: 0.5109 - val_accuracy: 0.8789\n",
      "Epoch 194/2000\n",
      "197/197 [==============================] - 4s 20ms/step - loss: 0.0241 - accuracy: 0.9921 - val_loss: 0.5707 - val_accuracy: 0.8579\n",
      "Epoch 195/2000\n",
      "197/197 [==============================] - 4s 22ms/step - loss: 0.0465 - accuracy: 0.9849 - val_loss: 0.5300 - val_accuracy: 0.8789\n",
      "Epoch 196/2000\n",
      "197/197 [==============================] - 4s 22ms/step - loss: 0.0221 - accuracy: 0.9930 - val_loss: 0.6621 - val_accuracy: 0.8605\n",
      "Epoch 197/2000\n",
      "197/197 [==============================] - 4s 22ms/step - loss: 0.0295 - accuracy: 0.9875 - val_loss: 0.5061 - val_accuracy: 0.8711\n",
      "Epoch 198/2000\n",
      "197/197 [==============================] - 4s 22ms/step - loss: 0.0257 - accuracy: 0.9914 - val_loss: 0.7579 - val_accuracy: 0.8553\n",
      "Epoch 199/2000\n",
      "197/197 [==============================] - 4s 22ms/step - loss: 0.0261 - accuracy: 0.9900 - val_loss: 0.6863 - val_accuracy: 0.8737\n",
      "Epoch 200/2000\n",
      "197/197 [==============================] - 4s 22ms/step - loss: 0.0295 - accuracy: 0.9895 - val_loss: 0.6332 - val_accuracy: 0.8658\n",
      "Epoch 201/2000\n",
      "197/197 [==============================] - 4s 22ms/step - loss: 0.0322 - accuracy: 0.9884 - val_loss: 0.6117 - val_accuracy: 0.8711\n",
      "Epoch 202/2000\n",
      "197/197 [==============================] - 4s 22ms/step - loss: 0.0193 - accuracy: 0.9924 - val_loss: 0.7794 - val_accuracy: 0.8395\n",
      "Epoch 203/2000\n",
      "197/197 [==============================] - 4s 22ms/step - loss: 0.0288 - accuracy: 0.9894 - val_loss: 0.5138 - val_accuracy: 0.8868\n",
      "Epoch 204/2000\n",
      "197/197 [==============================] - 4s 22ms/step - loss: 0.0270 - accuracy: 0.9889 - val_loss: 0.8314 - val_accuracy: 0.8263\n",
      "Epoch 205/2000\n",
      "197/197 [==============================] - 4s 22ms/step - loss: 0.0340 - accuracy: 0.9865 - val_loss: 0.6371 - val_accuracy: 0.8632\n",
      "Epoch 206/2000\n",
      "197/197 [==============================] - 4s 22ms/step - loss: 0.0232 - accuracy: 0.9914 - val_loss: 0.5614 - val_accuracy: 0.8579\n",
      "Epoch 207/2000\n",
      "197/197 [==============================] - 4s 22ms/step - loss: 0.0205 - accuracy: 0.9927 - val_loss: 0.6999 - val_accuracy: 0.8526\n",
      "Epoch 208/2000\n",
      "197/197 [==============================] - 4s 21ms/step - loss: 0.0357 - accuracy: 0.9868 - val_loss: 0.5290 - val_accuracy: 0.8711\n",
      "Epoch 209/2000\n",
      "197/197 [==============================] - 4s 22ms/step - loss: 0.0268 - accuracy: 0.9902 - val_loss: 0.5548 - val_accuracy: 0.8789\n",
      "Epoch 210/2000\n",
      "197/197 [==============================] - 4s 22ms/step - loss: 0.0311 - accuracy: 0.9897 - val_loss: 0.4678 - val_accuracy: 0.8947\n",
      "Epoch 211/2000\n",
      "197/197 [==============================] - 4s 22ms/step - loss: 0.0297 - accuracy: 0.9897 - val_loss: 0.4832 - val_accuracy: 0.8605\n",
      "Epoch 212/2000\n",
      "197/197 [==============================] - 4s 22ms/step - loss: 0.0307 - accuracy: 0.9889 - val_loss: 0.6192 - val_accuracy: 0.8684\n"
     ]
    },
    {
     "name": "stdout",
     "output_type": "stream",
     "text": [
      "Epoch 213/2000\n",
      "197/197 [==============================] - 4s 22ms/step - loss: 0.0334 - accuracy: 0.9878 - val_loss: 0.5498 - val_accuracy: 0.8816\n",
      "Epoch 214/2000\n",
      "197/197 [==============================] - 4s 22ms/step - loss: 0.0209 - accuracy: 0.9927 - val_loss: 0.5344 - val_accuracy: 0.8579\n",
      "Epoch 215/2000\n",
      "197/197 [==============================] - 4s 22ms/step - loss: 0.0237 - accuracy: 0.9914 - val_loss: 0.7555 - val_accuracy: 0.8368\n",
      "Epoch 216/2000\n",
      "197/197 [==============================] - 4s 22ms/step - loss: 0.0297 - accuracy: 0.9884 - val_loss: 0.5842 - val_accuracy: 0.8579\n",
      "Epoch 217/2000\n",
      "197/197 [==============================] - 4s 22ms/step - loss: 0.0194 - accuracy: 0.9932 - val_loss: 0.5409 - val_accuracy: 0.8684\n",
      "Epoch 218/2000\n",
      "197/197 [==============================] - 4s 22ms/step - loss: 0.0347 - accuracy: 0.9870 - val_loss: 0.4509 - val_accuracy: 0.8974\n",
      "Epoch 219/2000\n",
      "197/197 [==============================] - 4s 22ms/step - loss: 0.0223 - accuracy: 0.9925 - val_loss: 0.6150 - val_accuracy: 0.8763\n",
      "Epoch 220/2000\n",
      "197/197 [==============================] - 4s 22ms/step - loss: 0.0238 - accuracy: 0.9909 - val_loss: 0.6622 - val_accuracy: 0.8658\n",
      "Epoch 221/2000\n",
      "197/197 [==============================] - 4s 22ms/step - loss: 0.0325 - accuracy: 0.9865 - val_loss: 0.4272 - val_accuracy: 0.8868\n",
      "Epoch 222/2000\n",
      "196/197 [============================>.] - ETA: 0s - loss: 0.0197 - accuracy: 0.9936"
     ]
    },
    {
     "name": "stderr",
     "output_type": "stream",
     "text": [
      "WARNING:absl:Found untraced functions such as _jit_compiled_convolution_op, _jit_compiled_convolution_op, gru_cell_layer_call_fn, gru_cell_layer_call_and_return_conditional_losses while saving (showing 4 of 4). These functions will not be directly callable after loading.\n"
     ]
    },
    {
     "name": "stdout",
     "output_type": "stream",
     "text": [
      "INFO:tensorflow:Assets written to: /home/avatar/avatar_project/wake_word_model/assets\n"
     ]
    },
    {
     "name": "stderr",
     "output_type": "stream",
     "text": [
      "INFO:tensorflow:Assets written to: /home/avatar/avatar_project/wake_word_model/assets\n"
     ]
    },
    {
     "name": "stdout",
     "output_type": "stream",
     "text": [
      "197/197 [==============================] - 7s 35ms/step - loss: 0.0197 - accuracy: 0.9936 - val_loss: 1.1132 - val_accuracy: 0.7868\n",
      "Epoch 223/2000\n",
      "197/197 [==============================] - 4s 22ms/step - loss: 0.0172 - accuracy: 0.9948 - val_loss: 0.6057 - val_accuracy: 0.8684\n",
      "Epoch 224/2000\n",
      "197/197 [==============================] - 4s 22ms/step - loss: 0.0245 - accuracy: 0.9914 - val_loss: 0.5939 - val_accuracy: 0.8842\n",
      "Epoch 225/2000\n",
      "197/197 [==============================] - 4s 22ms/step - loss: 0.0404 - accuracy: 0.9863 - val_loss: 0.7264 - val_accuracy: 0.8342\n",
      "Epoch 226/2000\n",
      "197/197 [==============================] - 4s 22ms/step - loss: 0.0235 - accuracy: 0.9908 - val_loss: 0.6224 - val_accuracy: 0.8684\n",
      "Epoch 227/2000\n",
      "197/197 [==============================] - 4s 22ms/step - loss: 0.0231 - accuracy: 0.9916 - val_loss: 0.6928 - val_accuracy: 0.8605\n",
      "Epoch 228/2000\n",
      "197/197 [==============================] - 4s 22ms/step - loss: 0.0172 - accuracy: 0.9941 - val_loss: 0.8611 - val_accuracy: 0.8526\n",
      "Epoch 229/2000\n",
      "197/197 [==============================] - 4s 22ms/step - loss: 0.0194 - accuracy: 0.9930 - val_loss: 0.6055 - val_accuracy: 0.8763\n",
      "Epoch 230/2000\n",
      "197/197 [==============================] - 4s 22ms/step - loss: 0.0323 - accuracy: 0.9881 - val_loss: 0.4760 - val_accuracy: 0.8974\n",
      "Epoch 231/2000\n",
      "197/197 [==============================] - 4s 22ms/step - loss: 0.0218 - accuracy: 0.9932 - val_loss: 0.5698 - val_accuracy: 0.8579\n",
      "Epoch 232/2000\n",
      "197/197 [==============================] - 4s 22ms/step - loss: 0.0223 - accuracy: 0.9925 - val_loss: 0.7060 - val_accuracy: 0.8658\n",
      "Epoch 233/2000\n",
      "197/197 [==============================] - 4s 22ms/step - loss: 0.0254 - accuracy: 0.9922 - val_loss: 0.8209 - val_accuracy: 0.8263\n",
      "Epoch 234/2000\n",
      "197/197 [==============================] - 4s 23ms/step - loss: 0.0209 - accuracy: 0.9911 - val_loss: 0.6215 - val_accuracy: 0.8658\n",
      "Epoch 235/2000\n",
      "197/197 [==============================] - 4s 22ms/step - loss: 0.0309 - accuracy: 0.9895 - val_loss: 0.8165 - val_accuracy: 0.8237\n",
      "Epoch 236/2000\n",
      "197/197 [==============================] - 4s 23ms/step - loss: 0.0258 - accuracy: 0.9914 - val_loss: 0.8516 - val_accuracy: 0.8316\n",
      "Epoch 237/2000\n",
      "197/197 [==============================] - 4s 22ms/step - loss: 0.0168 - accuracy: 0.9941 - val_loss: 0.7906 - val_accuracy: 0.8526\n",
      "Epoch 238/2000\n",
      "197/197 [==============================] - 4s 22ms/step - loss: 0.0232 - accuracy: 0.9924 - val_loss: 0.5107 - val_accuracy: 0.8763\n",
      "Epoch 239/2000\n",
      "197/197 [==============================] - 4s 22ms/step - loss: 0.0146 - accuracy: 0.9944 - val_loss: 0.5399 - val_accuracy: 0.8816\n",
      "Epoch 240/2000\n",
      "197/197 [==============================] - 4s 22ms/step - loss: 0.0278 - accuracy: 0.9890 - val_loss: 0.5635 - val_accuracy: 0.8500\n",
      "Epoch 241/2000\n",
      "197/197 [==============================] - 4s 22ms/step - loss: 0.0162 - accuracy: 0.9946 - val_loss: 0.6087 - val_accuracy: 0.8789\n",
      "Epoch 242/2000\n",
      "197/197 [==============================] - 4s 22ms/step - loss: 0.0151 - accuracy: 0.9948 - val_loss: 0.5340 - val_accuracy: 0.8526\n",
      "Epoch 243/2000\n",
      "197/197 [==============================] - 4s 22ms/step - loss: 0.0157 - accuracy: 0.9952 - val_loss: 0.5334 - val_accuracy: 0.8658\n",
      "Epoch 244/2000\n",
      "197/197 [==============================] - 4s 22ms/step - loss: 0.0207 - accuracy: 0.9927 - val_loss: 0.5865 - val_accuracy: 0.8711\n",
      "Epoch 245/2000\n",
      "197/197 [==============================] - 4s 22ms/step - loss: 0.0305 - accuracy: 0.9898 - val_loss: 0.6570 - val_accuracy: 0.8737\n",
      "Epoch 246/2000\n",
      "197/197 [==============================] - 4s 22ms/step - loss: 0.0482 - accuracy: 0.9827 - val_loss: 0.5405 - val_accuracy: 0.8842\n",
      "Epoch 247/2000\n",
      "197/197 [==============================] - 4s 22ms/step - loss: 0.0177 - accuracy: 0.9938 - val_loss: 0.5847 - val_accuracy: 0.8447\n",
      "Epoch 248/2000\n",
      "197/197 [==============================] - 4s 22ms/step - loss: 0.0188 - accuracy: 0.9922 - val_loss: 0.4581 - val_accuracy: 0.8868\n",
      "Epoch 249/2000\n",
      "197/197 [==============================] - 4s 22ms/step - loss: 0.0182 - accuracy: 0.9933 - val_loss: 0.5677 - val_accuracy: 0.8842\n",
      "Epoch 250/2000\n",
      "197/197 [==============================] - 4s 22ms/step - loss: 0.0204 - accuracy: 0.9925 - val_loss: 0.6353 - val_accuracy: 0.8421\n",
      "Epoch 251/2000\n",
      "197/197 [==============================] - 4s 22ms/step - loss: 0.0121 - accuracy: 0.9959 - val_loss: 0.4923 - val_accuracy: 0.8763\n",
      "Epoch 252/2000\n",
      "197/197 [==============================] - 4s 22ms/step - loss: 0.0168 - accuracy: 0.9940 - val_loss: 0.6061 - val_accuracy: 0.8842\n",
      "Epoch 253/2000\n",
      "197/197 [==============================] - 4s 22ms/step - loss: 0.0215 - accuracy: 0.9924 - val_loss: 0.5086 - val_accuracy: 0.8947\n",
      "Epoch 254/2000\n",
      "197/197 [==============================] - 4s 22ms/step - loss: 0.0277 - accuracy: 0.9908 - val_loss: 0.9626 - val_accuracy: 0.8421\n",
      "Epoch 255/2000\n",
      "197/197 [==============================] - 4s 22ms/step - loss: 0.0224 - accuracy: 0.9919 - val_loss: 0.8233 - val_accuracy: 0.8342\n",
      "Epoch 256/2000\n",
      "197/197 [==============================] - 4s 22ms/step - loss: 0.0180 - accuracy: 0.9919 - val_loss: 0.4820 - val_accuracy: 0.8895\n",
      "Epoch 257/2000\n",
      "197/197 [==============================] - 4s 22ms/step - loss: 0.0151 - accuracy: 0.9946 - val_loss: 0.6337 - val_accuracy: 0.8789\n",
      "Epoch 258/2000\n",
      "197/197 [==============================] - 4s 22ms/step - loss: 0.0149 - accuracy: 0.9940 - val_loss: 0.6225 - val_accuracy: 0.8553\n",
      "Epoch 259/2000\n",
      "197/197 [==============================] - 4s 22ms/step - loss: 0.0133 - accuracy: 0.9956 - val_loss: 0.7274 - val_accuracy: 0.8684\n",
      "Epoch 260/2000\n",
      "197/197 [==============================] - 4s 22ms/step - loss: 0.0141 - accuracy: 0.9944 - val_loss: 0.6816 - val_accuracy: 0.8763\n",
      "Epoch 261/2000\n",
      "197/197 [==============================] - 4s 22ms/step - loss: 0.0166 - accuracy: 0.9949 - val_loss: 0.6119 - val_accuracy: 0.8605\n",
      "Epoch 262/2000\n",
      "197/197 [==============================] - 4s 22ms/step - loss: 0.0200 - accuracy: 0.9914 - val_loss: 0.6297 - val_accuracy: 0.8237\n",
      "Epoch 263/2000\n",
      "197/197 [==============================] - 4s 22ms/step - loss: 0.0272 - accuracy: 0.9906 - val_loss: 0.7531 - val_accuracy: 0.8658\n",
      "Epoch 264/2000\n",
      "197/197 [==============================] - 4s 22ms/step - loss: 0.0211 - accuracy: 0.9919 - val_loss: 0.4843 - val_accuracy: 0.8711\n",
      "Epoch 265/2000\n",
      "197/197 [==============================] - 4s 22ms/step - loss: 0.0150 - accuracy: 0.9943 - val_loss: 0.5838 - val_accuracy: 0.8658\n",
      "Epoch 266/2000\n",
      "197/197 [==============================] - 4s 22ms/step - loss: 0.0163 - accuracy: 0.9948 - val_loss: 0.6255 - val_accuracy: 0.8763\n",
      "Epoch 267/2000\n",
      "197/197 [==============================] - 4s 20ms/step - loss: 0.0202 - accuracy: 0.9938 - val_loss: 0.8117 - val_accuracy: 0.8553\n",
      "Epoch 268/2000\n",
      "197/197 [==============================] - 4s 21ms/step - loss: 0.0146 - accuracy: 0.9943 - val_loss: 0.5665 - val_accuracy: 0.8842\n",
      "Epoch 269/2000\n",
      "197/197 [==============================] - 4s 22ms/step - loss: 0.0108 - accuracy: 0.9962 - val_loss: 0.7317 - val_accuracy: 0.8605\n",
      "Epoch 270/2000\n",
      "197/197 [==============================] - 4s 22ms/step - loss: 0.0112 - accuracy: 0.9959 - val_loss: 0.7051 - val_accuracy: 0.8974\n",
      "Epoch 271/2000\n",
      "197/197 [==============================] - 4s 22ms/step - loss: 0.0154 - accuracy: 0.9948 - val_loss: 0.7052 - val_accuracy: 0.8605\n",
      "Epoch 272/2000\n",
      "197/197 [==============================] - 4s 22ms/step - loss: 0.0407 - accuracy: 0.9862 - val_loss: 0.6460 - val_accuracy: 0.8579\n",
      "Epoch 273/2000\n",
      "197/197 [==============================] - 4s 22ms/step - loss: 0.0230 - accuracy: 0.9911 - val_loss: 0.5486 - val_accuracy: 0.8211\n",
      "Epoch 274/2000\n",
      "197/197 [==============================] - 4s 22ms/step - loss: 0.0223 - accuracy: 0.9927 - val_loss: 0.6383 - val_accuracy: 0.8868\n",
      "Epoch 275/2000\n",
      "197/197 [==============================] - 4s 22ms/step - loss: 0.0115 - accuracy: 0.9962 - val_loss: 0.8777 - val_accuracy: 0.8263\n",
      "Epoch 276/2000\n",
      "197/197 [==============================] - 4s 22ms/step - loss: 0.0188 - accuracy: 0.9929 - val_loss: 0.5242 - val_accuracy: 0.8921\n",
      "Epoch 277/2000\n",
      "197/197 [==============================] - 4s 23ms/step - loss: 0.0198 - accuracy: 0.9932 - val_loss: 0.5077 - val_accuracy: 0.8895\n"
     ]
    },
    {
     "name": "stdout",
     "output_type": "stream",
     "text": [
      "Epoch 278/2000\n",
      "197/197 [==============================] - 4s 22ms/step - loss: 0.0109 - accuracy: 0.9968 - val_loss: 0.6211 - val_accuracy: 0.8789\n",
      "Epoch 279/2000\n",
      "197/197 [==============================] - 4s 22ms/step - loss: 0.0115 - accuracy: 0.9968 - val_loss: 0.7044 - val_accuracy: 0.8711\n",
      "Epoch 280/2000\n",
      "197/197 [==============================] - 4s 22ms/step - loss: 0.0248 - accuracy: 0.9914 - val_loss: 0.5012 - val_accuracy: 0.8684\n",
      "Epoch 281/2000\n",
      "197/197 [==============================] - 4s 22ms/step - loss: 0.0196 - accuracy: 0.9927 - val_loss: 0.8677 - val_accuracy: 0.8026\n",
      "Epoch 282/2000\n",
      "197/197 [==============================] - 4s 22ms/step - loss: 0.0132 - accuracy: 0.9952 - val_loss: 0.6612 - val_accuracy: 0.8605\n",
      "Epoch 283/2000\n",
      "197/197 [==============================] - 4s 22ms/step - loss: 0.0200 - accuracy: 0.9911 - val_loss: 0.5860 - val_accuracy: 0.8605\n",
      "Epoch 284/2000\n",
      "197/197 [==============================] - 4s 22ms/step - loss: 0.0147 - accuracy: 0.9948 - val_loss: 0.7226 - val_accuracy: 0.8658\n",
      "Epoch 285/2000\n",
      "197/197 [==============================] - 4s 22ms/step - loss: 0.0098 - accuracy: 0.9963 - val_loss: 0.7994 - val_accuracy: 0.8447\n",
      "Epoch 286/2000\n",
      "197/197 [==============================] - 4s 22ms/step - loss: 0.0095 - accuracy: 0.9976 - val_loss: 0.5662 - val_accuracy: 0.8816\n",
      "Epoch 287/2000\n",
      "197/197 [==============================] - 4s 22ms/step - loss: 0.0171 - accuracy: 0.9944 - val_loss: 0.5149 - val_accuracy: 0.9079\n",
      "Epoch 288/2000\n",
      "197/197 [==============================] - 4s 21ms/step - loss: 0.0226 - accuracy: 0.9909 - val_loss: 0.5345 - val_accuracy: 0.8921\n",
      "Epoch 289/2000\n",
      "197/197 [==============================] - 4s 22ms/step - loss: 0.0138 - accuracy: 0.9944 - val_loss: 0.8243 - val_accuracy: 0.8579\n",
      "Epoch 290/2000\n",
      "197/197 [==============================] - 4s 22ms/step - loss: 0.0128 - accuracy: 0.9957 - val_loss: 0.7339 - val_accuracy: 0.8842\n",
      "Epoch 291/2000\n",
      "197/197 [==============================] - 4s 19ms/step - loss: 0.0181 - accuracy: 0.9929 - val_loss: 0.6983 - val_accuracy: 0.8395\n",
      "Epoch 292/2000\n",
      "197/197 [==============================] - 4s 19ms/step - loss: 0.0269 - accuracy: 0.9900 - val_loss: 0.6706 - val_accuracy: 0.8500\n",
      "Epoch 293/2000\n",
      "197/197 [==============================] - 4s 19ms/step - loss: 0.0305 - accuracy: 0.9906 - val_loss: 0.5130 - val_accuracy: 0.8921\n",
      "Epoch 294/2000\n",
      "197/197 [==============================] - 4s 18ms/step - loss: 0.0125 - accuracy: 0.9959 - val_loss: 0.4509 - val_accuracy: 0.8789\n",
      "Epoch 295/2000\n",
      "197/197 [==============================] - 4s 19ms/step - loss: 0.0081 - accuracy: 0.9970 - val_loss: 0.5759 - val_accuracy: 0.8816\n",
      "Epoch 296/2000\n",
      "197/197 [==============================] - 4s 19ms/step - loss: 0.0084 - accuracy: 0.9970 - val_loss: 0.6823 - val_accuracy: 0.8684\n",
      "Epoch 297/2000\n",
      "197/197 [==============================] - 4s 19ms/step - loss: 0.0184 - accuracy: 0.9936 - val_loss: 0.7205 - val_accuracy: 0.8737\n",
      "Epoch 298/2000\n",
      "197/197 [==============================] - 4s 19ms/step - loss: 0.0154 - accuracy: 0.9938 - val_loss: 0.7146 - val_accuracy: 0.8500\n",
      "Epoch 299/2000\n",
      "197/197 [==============================] - 4s 19ms/step - loss: 0.0210 - accuracy: 0.9921 - val_loss: 0.5507 - val_accuracy: 0.8579\n",
      "Epoch 300/2000\n",
      "197/197 [==============================] - 4s 19ms/step - loss: 0.0148 - accuracy: 0.9949 - val_loss: 0.5654 - val_accuracy: 0.8947\n",
      "Epoch 301/2000\n",
      "197/197 [==============================] - 4s 19ms/step - loss: 0.0123 - accuracy: 0.9956 - val_loss: 0.6192 - val_accuracy: 0.8737\n",
      "Epoch 302/2000\n",
      "197/197 [==============================] - 4s 19ms/step - loss: 0.0087 - accuracy: 0.9967 - val_loss: 1.0094 - val_accuracy: 0.8079\n",
      "Epoch 303/2000\n",
      "197/197 [==============================] - 4s 19ms/step - loss: 0.0313 - accuracy: 0.9879 - val_loss: 0.5713 - val_accuracy: 0.8789\n",
      "Epoch 304/2000\n",
      "197/197 [==============================] - 4s 18ms/step - loss: 0.0101 - accuracy: 0.9965 - val_loss: 0.5165 - val_accuracy: 0.8816\n",
      "Epoch 305/2000\n",
      "197/197 [==============================] - 4s 18ms/step - loss: 0.0207 - accuracy: 0.9930 - val_loss: 0.5772 - val_accuracy: 0.8789\n",
      "Epoch 306/2000\n",
      "197/197 [==============================] - 4s 19ms/step - loss: 0.0300 - accuracy: 0.9883 - val_loss: 0.4732 - val_accuracy: 0.8711\n",
      "Epoch 307/2000\n",
      "197/197 [==============================] - 4s 19ms/step - loss: 0.0144 - accuracy: 0.9954 - val_loss: 0.6081 - val_accuracy: 0.8500\n",
      "Epoch 308/2000\n",
      "197/197 [==============================] - 4s 22ms/step - loss: 0.0109 - accuracy: 0.9967 - val_loss: 0.5782 - val_accuracy: 0.8737\n",
      "Epoch 309/2000\n",
      "197/197 [==============================] - 4s 22ms/step - loss: 0.0084 - accuracy: 0.9968 - val_loss: 0.7516 - val_accuracy: 0.8684\n",
      "Epoch 310/2000\n",
      "197/197 [==============================] - 4s 23ms/step - loss: 0.0244 - accuracy: 0.9930 - val_loss: 0.6695 - val_accuracy: 0.8447\n",
      "Epoch 311/2000\n",
      "197/197 [==============================] - 4s 22ms/step - loss: 0.0159 - accuracy: 0.9943 - val_loss: 0.6268 - val_accuracy: 0.8789\n",
      "Epoch 312/2000\n",
      "197/197 [==============================] - 4s 22ms/step - loss: 0.0139 - accuracy: 0.9956 - val_loss: 0.5939 - val_accuracy: 0.8684\n",
      "Epoch 313/2000\n",
      "197/197 [==============================] - 4s 22ms/step - loss: 0.0074 - accuracy: 0.9975 - val_loss: 0.7697 - val_accuracy: 0.8816\n",
      "Epoch 314/2000\n",
      "197/197 [==============================] - 4s 20ms/step - loss: 0.0104 - accuracy: 0.9967 - val_loss: 0.6276 - val_accuracy: 0.8737\n",
      "Epoch 315/2000\n",
      "197/197 [==============================] - 4s 23ms/step - loss: 0.0111 - accuracy: 0.9962 - val_loss: 0.6755 - val_accuracy: 0.8316\n",
      "Epoch 316/2000\n",
      "197/197 [==============================] - 4s 22ms/step - loss: 0.0278 - accuracy: 0.9890 - val_loss: 0.5031 - val_accuracy: 0.8921\n",
      "Epoch 317/2000\n",
      "197/197 [==============================] - 4s 22ms/step - loss: 0.0117 - accuracy: 0.9965 - val_loss: 0.4597 - val_accuracy: 0.9079\n",
      "Epoch 318/2000\n",
      "197/197 [==============================] - 4s 22ms/step - loss: 0.0086 - accuracy: 0.9968 - val_loss: 0.6523 - val_accuracy: 0.8868\n",
      "Epoch 319/2000\n",
      "197/197 [==============================] - 4s 22ms/step - loss: 0.0115 - accuracy: 0.9952 - val_loss: 0.7049 - val_accuracy: 0.8763\n",
      "Epoch 320/2000\n",
      "197/197 [==============================] - 4s 22ms/step - loss: 0.0099 - accuracy: 0.9965 - val_loss: 0.6540 - val_accuracy: 0.8895\n",
      "Epoch 321/2000\n",
      "197/197 [==============================] - 4s 23ms/step - loss: 0.0100 - accuracy: 0.9967 - val_loss: 0.7426 - val_accuracy: 0.8737\n",
      "Epoch 322/2000\n",
      "197/197 [==============================] - 4s 23ms/step - loss: 0.0172 - accuracy: 0.9949 - val_loss: 0.6011 - val_accuracy: 0.8684\n",
      "Epoch 323/2000\n",
      "196/197 [============================>.] - ETA: 0s - loss: 0.0194 - accuracy: 0.9936"
     ]
    },
    {
     "name": "stderr",
     "output_type": "stream",
     "text": [
      "WARNING:absl:Found untraced functions such as _jit_compiled_convolution_op, _jit_compiled_convolution_op, gru_cell_layer_call_fn, gru_cell_layer_call_and_return_conditional_losses while saving (showing 4 of 4). These functions will not be directly callable after loading.\n"
     ]
    },
    {
     "name": "stdout",
     "output_type": "stream",
     "text": [
      "INFO:tensorflow:Assets written to: /home/avatar/avatar_project/wake_word_model/assets\n"
     ]
    },
    {
     "name": "stderr",
     "output_type": "stream",
     "text": [
      "INFO:tensorflow:Assets written to: /home/avatar/avatar_project/wake_word_model/assets\n"
     ]
    },
    {
     "name": "stdout",
     "output_type": "stream",
     "text": [
      "197/197 [==============================] - 7s 34ms/step - loss: 0.0201 - accuracy: 0.9935 - val_loss: 1.1488 - val_accuracy: 0.7763\n",
      "Epoch 324/2000\n",
      "197/197 [==============================] - 4s 22ms/step - loss: 0.0271 - accuracy: 0.9903 - val_loss: 0.6203 - val_accuracy: 0.8842\n",
      "Epoch 325/2000\n",
      "197/197 [==============================] - 4s 19ms/step - loss: 0.0081 - accuracy: 0.9976 - val_loss: 0.6625 - val_accuracy: 0.8842\n",
      "Epoch 326/2000\n",
      "197/197 [==============================] - 4s 21ms/step - loss: 0.0056 - accuracy: 0.9983 - val_loss: 0.6938 - val_accuracy: 0.8763\n",
      "Epoch 327/2000\n",
      "197/197 [==============================] - 4s 22ms/step - loss: 0.0202 - accuracy: 0.9946 - val_loss: 0.7957 - val_accuracy: 0.8395\n",
      "Epoch 328/2000\n",
      "197/197 [==============================] - 4s 22ms/step - loss: 0.0081 - accuracy: 0.9981 - val_loss: 0.7023 - val_accuracy: 0.8868\n",
      "Epoch 329/2000\n",
      "197/197 [==============================] - 4s 22ms/step - loss: 0.0116 - accuracy: 0.9957 - val_loss: 0.5095 - val_accuracy: 0.9079\n",
      "Epoch 330/2000\n",
      "197/197 [==============================] - 4s 22ms/step - loss: 0.0150 - accuracy: 0.9951 - val_loss: 0.9713 - val_accuracy: 0.8158\n",
      "Epoch 331/2000\n",
      "197/197 [==============================] - 4s 22ms/step - loss: 0.0071 - accuracy: 0.9978 - val_loss: 0.6795 - val_accuracy: 0.8737\n",
      "Epoch 332/2000\n",
      "197/197 [==============================] - 4s 21ms/step - loss: 0.0068 - accuracy: 0.9970 - val_loss: 0.7569 - val_accuracy: 0.8368\n",
      "Epoch 333/2000\n",
      "197/197 [==============================] - 4s 22ms/step - loss: 0.0048 - accuracy: 0.9983 - val_loss: 0.8024 - val_accuracy: 0.8553\n",
      "Epoch 334/2000\n",
      "197/197 [==============================] - 4s 21ms/step - loss: 0.0214 - accuracy: 0.9933 - val_loss: 0.6914 - val_accuracy: 0.8684\n",
      "Epoch 335/2000\n",
      "197/197 [==============================] - 4s 21ms/step - loss: 0.0139 - accuracy: 0.9946 - val_loss: 0.7326 - val_accuracy: 0.8421\n",
      "Epoch 336/2000\n",
      "197/197 [==============================] - 4s 21ms/step - loss: 0.0090 - accuracy: 0.9960 - val_loss: 0.6292 - val_accuracy: 0.8974\n",
      "Epoch 337/2000\n",
      "197/197 [==============================] - 4s 22ms/step - loss: 0.0108 - accuracy: 0.9970 - val_loss: 0.5777 - val_accuracy: 0.8895\n",
      "Epoch 338/2000\n",
      "197/197 [==============================] - 4s 21ms/step - loss: 0.0064 - accuracy: 0.9978 - val_loss: 0.6460 - val_accuracy: 0.8842\n",
      "Epoch 339/2000\n",
      "197/197 [==============================] - 4s 21ms/step - loss: 0.0064 - accuracy: 0.9979 - val_loss: 0.5729 - val_accuracy: 0.8737\n",
      "Epoch 340/2000\n",
      "197/197 [==============================] - 4s 22ms/step - loss: 0.0123 - accuracy: 0.9949 - val_loss: 0.8107 - val_accuracy: 0.8421\n",
      "Epoch 341/2000\n",
      "197/197 [==============================] - 4s 22ms/step - loss: 0.0111 - accuracy: 0.9968 - val_loss: 0.8343 - val_accuracy: 0.8553\n",
      "Epoch 342/2000\n",
      "197/197 [==============================] - 4s 22ms/step - loss: 0.0392 - accuracy: 0.9881 - val_loss: 0.5949 - val_accuracy: 0.8579\n",
      "Epoch 343/2000\n",
      "197/197 [==============================] - 4s 22ms/step - loss: 0.0131 - accuracy: 0.9959 - val_loss: 0.5870 - val_accuracy: 0.8895\n",
      "Epoch 344/2000\n",
      "197/197 [==============================] - 4s 22ms/step - loss: 0.0122 - accuracy: 0.9960 - val_loss: 0.7098 - val_accuracy: 0.8605\n",
      "Epoch 345/2000\n",
      "197/197 [==============================] - 4s 21ms/step - loss: 0.0131 - accuracy: 0.9954 - val_loss: 0.5718 - val_accuracy: 0.8868\n",
      "Epoch 346/2000\n",
      "197/197 [==============================] - 4s 22ms/step - loss: 0.0084 - accuracy: 0.9968 - val_loss: 0.6905 - val_accuracy: 0.8763\n",
      "Epoch 347/2000\n",
      "197/197 [==============================] - 4s 22ms/step - loss: 0.0091 - accuracy: 0.9962 - val_loss: 0.5851 - val_accuracy: 0.8921\n",
      "Epoch 348/2000\n",
      "197/197 [==============================] - 4s 21ms/step - loss: 0.0128 - accuracy: 0.9951 - val_loss: 0.5776 - val_accuracy: 0.8974\n",
      "Epoch 349/2000\n",
      "197/197 [==============================] - 4s 22ms/step - loss: 0.0061 - accuracy: 0.9983 - val_loss: 0.6205 - val_accuracy: 0.8921\n",
      "Epoch 350/2000\n",
      "197/197 [==============================] - 4s 21ms/step - loss: 0.0065 - accuracy: 0.9987 - val_loss: 0.7665 - val_accuracy: 0.8737\n",
      "Epoch 351/2000\n",
      "197/197 [==============================] - 4s 21ms/step - loss: 0.0054 - accuracy: 0.9983 - val_loss: 0.6776 - val_accuracy: 0.8868\n",
      "Epoch 352/2000\n",
      "197/197 [==============================] - 4s 20ms/step - loss: 0.0196 - accuracy: 0.9932 - val_loss: 0.7865 - val_accuracy: 0.8684\n",
      "Epoch 353/2000\n",
      "197/197 [==============================] - 4s 22ms/step - loss: 0.0203 - accuracy: 0.9938 - val_loss: 0.7511 - val_accuracy: 0.8658\n",
      "Epoch 354/2000\n",
      "197/197 [==============================] - 4s 21ms/step - loss: 0.0100 - accuracy: 0.9967 - val_loss: 0.6628 - val_accuracy: 0.8842\n",
      "Epoch 355/2000\n",
      "197/197 [==============================] - 4s 22ms/step - loss: 0.0084 - accuracy: 0.9973 - val_loss: 0.6642 - val_accuracy: 0.8579\n",
      "Epoch 356/2000\n",
      "197/197 [==============================] - 4s 21ms/step - loss: 0.0070 - accuracy: 0.9973 - val_loss: 0.8003 - val_accuracy: 0.8684\n",
      "Epoch 357/2000\n",
      "197/197 [==============================] - 4s 22ms/step - loss: 0.0189 - accuracy: 0.9940 - val_loss: 0.6995 - val_accuracy: 0.8921\n",
      "Epoch 358/2000\n",
      "197/197 [==============================] - 4s 20ms/step - loss: 0.0190 - accuracy: 0.9944 - val_loss: 0.6130 - val_accuracy: 0.8895\n",
      "Epoch 359/2000\n",
      "197/197 [==============================] - 4s 21ms/step - loss: 0.0211 - accuracy: 0.9936 - val_loss: 0.5229 - val_accuracy: 0.8816\n",
      "Epoch 360/2000\n",
      "197/197 [==============================] - 4s 21ms/step - loss: 0.0197 - accuracy: 0.9927 - val_loss: 0.5325 - val_accuracy: 0.8737\n",
      "Epoch 361/2000\n",
      "197/197 [==============================] - 4s 20ms/step - loss: 0.0093 - accuracy: 0.9978 - val_loss: 0.6471 - val_accuracy: 0.8711\n",
      "Epoch 362/2000\n",
      "197/197 [==============================] - 4s 21ms/step - loss: 0.0228 - accuracy: 0.9916 - val_loss: 0.4532 - val_accuracy: 0.9000\n",
      "Epoch 363/2000\n",
      "197/197 [==============================] - 4s 22ms/step - loss: 0.0127 - accuracy: 0.9963 - val_loss: 0.5422 - val_accuracy: 0.9026\n",
      "Epoch 364/2000\n",
      "197/197 [==============================] - 4s 22ms/step - loss: 0.0068 - accuracy: 0.9976 - val_loss: 0.6420 - val_accuracy: 0.8895\n",
      "Epoch 365/2000\n",
      "197/197 [==============================] - 4s 21ms/step - loss: 0.0072 - accuracy: 0.9978 - val_loss: 0.5466 - val_accuracy: 0.8947\n",
      "Epoch 366/2000\n",
      "197/197 [==============================] - 4s 22ms/step - loss: 0.0056 - accuracy: 0.9987 - val_loss: 0.6466 - val_accuracy: 0.8921\n",
      "Epoch 367/2000\n",
      "197/197 [==============================] - 4s 22ms/step - loss: 0.0069 - accuracy: 0.9983 - val_loss: 0.6312 - val_accuracy: 0.8658\n",
      "Epoch 368/2000\n",
      "197/197 [==============================] - 4s 22ms/step - loss: 0.0047 - accuracy: 0.9983 - val_loss: 0.6216 - val_accuracy: 0.8947\n",
      "Epoch 369/2000\n",
      "197/197 [==============================] - 4s 22ms/step - loss: 0.0079 - accuracy: 0.9975 - val_loss: 0.5827 - val_accuracy: 0.8895\n",
      "Epoch 370/2000\n",
      "197/197 [==============================] - 4s 22ms/step - loss: 0.0068 - accuracy: 0.9984 - val_loss: 0.6018 - val_accuracy: 0.8789\n",
      "Epoch 371/2000\n",
      "197/197 [==============================] - 4s 22ms/step - loss: 0.0059 - accuracy: 0.9975 - val_loss: 0.6895 - val_accuracy: 0.8816\n",
      "Epoch 372/2000\n",
      "197/197 [==============================] - 4s 22ms/step - loss: 0.0035 - accuracy: 0.9984 - val_loss: 0.6602 - val_accuracy: 0.8921\n",
      "Epoch 373/2000\n",
      "197/197 [==============================] - 4s 22ms/step - loss: 0.0147 - accuracy: 0.9952 - val_loss: 0.7681 - val_accuracy: 0.8132\n",
      "Epoch 374/2000\n",
      "197/197 [==============================] - 4s 22ms/step - loss: 0.0295 - accuracy: 0.9897 - val_loss: 0.6841 - val_accuracy: 0.9000\n",
      "Epoch 375/2000\n",
      "197/197 [==============================] - 4s 22ms/step - loss: 0.0098 - accuracy: 0.9967 - val_loss: 0.6212 - val_accuracy: 0.8816\n",
      "Epoch 376/2000\n",
      "197/197 [==============================] - 4s 22ms/step - loss: 0.0104 - accuracy: 0.9968 - val_loss: 0.8656 - val_accuracy: 0.8579\n",
      "Epoch 377/2000\n",
      "197/197 [==============================] - 4s 22ms/step - loss: 0.0132 - accuracy: 0.9957 - val_loss: 0.6167 - val_accuracy: 0.8711\n",
      "Epoch 378/2000\n",
      "197/197 [==============================] - 4s 22ms/step - loss: 0.0111 - accuracy: 0.9962 - val_loss: 0.6047 - val_accuracy: 0.8816\n"
     ]
    },
    {
     "name": "stdout",
     "output_type": "stream",
     "text": [
      "Epoch 379/2000\n",
      "197/197 [==============================] - 4s 22ms/step - loss: 0.0064 - accuracy: 0.9976 - val_loss: 0.7038 - val_accuracy: 0.8447\n",
      "Epoch 380/2000\n",
      "197/197 [==============================] - 4s 22ms/step - loss: 0.0156 - accuracy: 0.9949 - val_loss: 0.4969 - val_accuracy: 0.8947\n",
      "Epoch 381/2000\n",
      "197/197 [==============================] - 4s 23ms/step - loss: 0.0102 - accuracy: 0.9963 - val_loss: 0.6099 - val_accuracy: 0.8947\n",
      "Epoch 382/2000\n",
      " 70/197 [=========>....................] - ETA: 2s - loss: 0.0193 - accuracy: 0.9933"
     ]
    },
    {
     "ename": "KeyboardInterrupt",
     "evalue": "",
     "output_type": "error",
     "traceback": [
      "\u001b[0;31m---------------------------------------------------------------------------\u001b[0m",
      "\u001b[0;31mKeyboardInterrupt\u001b[0m                         Traceback (most recent call last)",
      "Input \u001b[0;32mIn [9]\u001b[0m, in \u001b[0;36m<cell line: 1>\u001b[0;34m()\u001b[0m\n\u001b[0;32m----> 1\u001b[0m history \u001b[38;5;241m=\u001b[39m \u001b[43mmodel\u001b[49m\u001b[38;5;241;43m.\u001b[39;49m\u001b[43mfit\u001b[49m\u001b[43m(\u001b[49m\u001b[43mX_train\u001b[49m\u001b[43m,\u001b[49m\u001b[43m \u001b[49m\u001b[43my_train\u001b[49m\u001b[43m,\u001b[49m\u001b[43m \u001b[49m\u001b[43mepochs\u001b[49m\u001b[38;5;241;43m=\u001b[39;49m\u001b[38;5;241;43m2000\u001b[39;49m\u001b[43m,\u001b[49m\u001b[43m \u001b[49m\u001b[43mbatch_size\u001b[49m\u001b[38;5;241;43m=\u001b[39;49m\u001b[38;5;241;43m32\u001b[39;49m\u001b[43m,\u001b[49m\u001b[43m \u001b[49m\u001b[43mcallbacks\u001b[49m\u001b[38;5;241;43m=\u001b[39;49m\u001b[43mmy_callbacks\u001b[49m\u001b[43m,\u001b[49m\u001b[43m \u001b[49m\n\u001b[1;32m      2\u001b[0m \u001b[43m                    \u001b[49m\u001b[43mvalidation_data\u001b[49m\u001b[38;5;241;43m=\u001b[39;49m\u001b[43m(\u001b[49m\u001b[43mX_val\u001b[49m\u001b[43m,\u001b[49m\u001b[43m \u001b[49m\u001b[43my_val\u001b[49m\u001b[43m)\u001b[49m\u001b[43m)\u001b[49m\n",
      "File \u001b[0;32m~/miniconda3/envs/avatarenv/lib/python3.8/site-packages/keras/utils/traceback_utils.py:65\u001b[0m, in \u001b[0;36mfilter_traceback.<locals>.error_handler\u001b[0;34m(*args, **kwargs)\u001b[0m\n\u001b[1;32m     63\u001b[0m filtered_tb \u001b[38;5;241m=\u001b[39m \u001b[38;5;28;01mNone\u001b[39;00m\n\u001b[1;32m     64\u001b[0m \u001b[38;5;28;01mtry\u001b[39;00m:\n\u001b[0;32m---> 65\u001b[0m     \u001b[38;5;28;01mreturn\u001b[39;00m \u001b[43mfn\u001b[49m\u001b[43m(\u001b[49m\u001b[38;5;241;43m*\u001b[39;49m\u001b[43margs\u001b[49m\u001b[43m,\u001b[49m\u001b[43m \u001b[49m\u001b[38;5;241;43m*\u001b[39;49m\u001b[38;5;241;43m*\u001b[39;49m\u001b[43mkwargs\u001b[49m\u001b[43m)\u001b[49m\n\u001b[1;32m     66\u001b[0m \u001b[38;5;28;01mexcept\u001b[39;00m \u001b[38;5;167;01mException\u001b[39;00m \u001b[38;5;28;01mas\u001b[39;00m e:\n\u001b[1;32m     67\u001b[0m     filtered_tb \u001b[38;5;241m=\u001b[39m _process_traceback_frames(e\u001b[38;5;241m.\u001b[39m__traceback__)\n",
      "File \u001b[0;32m~/miniconda3/envs/avatarenv/lib/python3.8/site-packages/keras/engine/training.py:1564\u001b[0m, in \u001b[0;36mModel.fit\u001b[0;34m(self, x, y, batch_size, epochs, verbose, callbacks, validation_split, validation_data, shuffle, class_weight, sample_weight, initial_epoch, steps_per_epoch, validation_steps, validation_batch_size, validation_freq, max_queue_size, workers, use_multiprocessing)\u001b[0m\n\u001b[1;32m   1556\u001b[0m \u001b[38;5;28;01mwith\u001b[39;00m tf\u001b[38;5;241m.\u001b[39mprofiler\u001b[38;5;241m.\u001b[39mexperimental\u001b[38;5;241m.\u001b[39mTrace(\n\u001b[1;32m   1557\u001b[0m     \u001b[38;5;124m\"\u001b[39m\u001b[38;5;124mtrain\u001b[39m\u001b[38;5;124m\"\u001b[39m,\n\u001b[1;32m   1558\u001b[0m     epoch_num\u001b[38;5;241m=\u001b[39mepoch,\n\u001b[0;32m   (...)\u001b[0m\n\u001b[1;32m   1561\u001b[0m     _r\u001b[38;5;241m=\u001b[39m\u001b[38;5;241m1\u001b[39m,\n\u001b[1;32m   1562\u001b[0m ):\n\u001b[1;32m   1563\u001b[0m     callbacks\u001b[38;5;241m.\u001b[39mon_train_batch_begin(step)\n\u001b[0;32m-> 1564\u001b[0m     tmp_logs \u001b[38;5;241m=\u001b[39m \u001b[38;5;28;43mself\u001b[39;49m\u001b[38;5;241;43m.\u001b[39;49m\u001b[43mtrain_function\u001b[49m\u001b[43m(\u001b[49m\u001b[43miterator\u001b[49m\u001b[43m)\u001b[49m\n\u001b[1;32m   1565\u001b[0m     \u001b[38;5;28;01mif\u001b[39;00m data_handler\u001b[38;5;241m.\u001b[39mshould_sync:\n\u001b[1;32m   1566\u001b[0m         context\u001b[38;5;241m.\u001b[39masync_wait()\n",
      "File \u001b[0;32m~/miniconda3/envs/avatarenv/lib/python3.8/site-packages/tensorflow/python/util/traceback_utils.py:150\u001b[0m, in \u001b[0;36mfilter_traceback.<locals>.error_handler\u001b[0;34m(*args, **kwargs)\u001b[0m\n\u001b[1;32m    148\u001b[0m filtered_tb \u001b[38;5;241m=\u001b[39m \u001b[38;5;28;01mNone\u001b[39;00m\n\u001b[1;32m    149\u001b[0m \u001b[38;5;28;01mtry\u001b[39;00m:\n\u001b[0;32m--> 150\u001b[0m   \u001b[38;5;28;01mreturn\u001b[39;00m \u001b[43mfn\u001b[49m\u001b[43m(\u001b[49m\u001b[38;5;241;43m*\u001b[39;49m\u001b[43margs\u001b[49m\u001b[43m,\u001b[49m\u001b[43m \u001b[49m\u001b[38;5;241;43m*\u001b[39;49m\u001b[38;5;241;43m*\u001b[39;49m\u001b[43mkwargs\u001b[49m\u001b[43m)\u001b[49m\n\u001b[1;32m    151\u001b[0m \u001b[38;5;28;01mexcept\u001b[39;00m \u001b[38;5;167;01mException\u001b[39;00m \u001b[38;5;28;01mas\u001b[39;00m e:\n\u001b[1;32m    152\u001b[0m   filtered_tb \u001b[38;5;241m=\u001b[39m _process_traceback_frames(e\u001b[38;5;241m.\u001b[39m__traceback__)\n",
      "File \u001b[0;32m~/miniconda3/envs/avatarenv/lib/python3.8/site-packages/tensorflow/python/eager/def_function.py:915\u001b[0m, in \u001b[0;36mFunction.__call__\u001b[0;34m(self, *args, **kwds)\u001b[0m\n\u001b[1;32m    912\u001b[0m compiler \u001b[38;5;241m=\u001b[39m \u001b[38;5;124m\"\u001b[39m\u001b[38;5;124mxla\u001b[39m\u001b[38;5;124m\"\u001b[39m \u001b[38;5;28;01mif\u001b[39;00m \u001b[38;5;28mself\u001b[39m\u001b[38;5;241m.\u001b[39m_jit_compile \u001b[38;5;28;01melse\u001b[39;00m \u001b[38;5;124m\"\u001b[39m\u001b[38;5;124mnonXla\u001b[39m\u001b[38;5;124m\"\u001b[39m\n\u001b[1;32m    914\u001b[0m \u001b[38;5;28;01mwith\u001b[39;00m OptionalXlaContext(\u001b[38;5;28mself\u001b[39m\u001b[38;5;241m.\u001b[39m_jit_compile):\n\u001b[0;32m--> 915\u001b[0m   result \u001b[38;5;241m=\u001b[39m \u001b[38;5;28;43mself\u001b[39;49m\u001b[38;5;241;43m.\u001b[39;49m\u001b[43m_call\u001b[49m\u001b[43m(\u001b[49m\u001b[38;5;241;43m*\u001b[39;49m\u001b[43margs\u001b[49m\u001b[43m,\u001b[49m\u001b[43m \u001b[49m\u001b[38;5;241;43m*\u001b[39;49m\u001b[38;5;241;43m*\u001b[39;49m\u001b[43mkwds\u001b[49m\u001b[43m)\u001b[49m\n\u001b[1;32m    917\u001b[0m new_tracing_count \u001b[38;5;241m=\u001b[39m \u001b[38;5;28mself\u001b[39m\u001b[38;5;241m.\u001b[39mexperimental_get_tracing_count()\n\u001b[1;32m    918\u001b[0m without_tracing \u001b[38;5;241m=\u001b[39m (tracing_count \u001b[38;5;241m==\u001b[39m new_tracing_count)\n",
      "File \u001b[0;32m~/miniconda3/envs/avatarenv/lib/python3.8/site-packages/tensorflow/python/eager/def_function.py:947\u001b[0m, in \u001b[0;36mFunction._call\u001b[0;34m(self, *args, **kwds)\u001b[0m\n\u001b[1;32m    944\u001b[0m   \u001b[38;5;28mself\u001b[39m\u001b[38;5;241m.\u001b[39m_lock\u001b[38;5;241m.\u001b[39mrelease()\n\u001b[1;32m    945\u001b[0m   \u001b[38;5;66;03m# In this case we have created variables on the first call, so we run the\u001b[39;00m\n\u001b[1;32m    946\u001b[0m   \u001b[38;5;66;03m# defunned version which is guaranteed to never create variables.\u001b[39;00m\n\u001b[0;32m--> 947\u001b[0m   \u001b[38;5;28;01mreturn\u001b[39;00m \u001b[38;5;28;43mself\u001b[39;49m\u001b[38;5;241;43m.\u001b[39;49m\u001b[43m_stateless_fn\u001b[49m\u001b[43m(\u001b[49m\u001b[38;5;241;43m*\u001b[39;49m\u001b[43margs\u001b[49m\u001b[43m,\u001b[49m\u001b[43m \u001b[49m\u001b[38;5;241;43m*\u001b[39;49m\u001b[38;5;241;43m*\u001b[39;49m\u001b[43mkwds\u001b[49m\u001b[43m)\u001b[49m  \u001b[38;5;66;03m# pylint: disable=not-callable\u001b[39;00m\n\u001b[1;32m    948\u001b[0m \u001b[38;5;28;01melif\u001b[39;00m \u001b[38;5;28mself\u001b[39m\u001b[38;5;241m.\u001b[39m_stateful_fn \u001b[38;5;129;01mis\u001b[39;00m \u001b[38;5;129;01mnot\u001b[39;00m \u001b[38;5;28;01mNone\u001b[39;00m:\n\u001b[1;32m    949\u001b[0m   \u001b[38;5;66;03m# Release the lock early so that multiple threads can perform the call\u001b[39;00m\n\u001b[1;32m    950\u001b[0m   \u001b[38;5;66;03m# in parallel.\u001b[39;00m\n\u001b[1;32m    951\u001b[0m   \u001b[38;5;28mself\u001b[39m\u001b[38;5;241m.\u001b[39m_lock\u001b[38;5;241m.\u001b[39mrelease()\n",
      "File \u001b[0;32m~/miniconda3/envs/avatarenv/lib/python3.8/site-packages/tensorflow/python/eager/function.py:2496\u001b[0m, in \u001b[0;36mFunction.__call__\u001b[0;34m(self, *args, **kwargs)\u001b[0m\n\u001b[1;32m   2493\u001b[0m \u001b[38;5;28;01mwith\u001b[39;00m \u001b[38;5;28mself\u001b[39m\u001b[38;5;241m.\u001b[39m_lock:\n\u001b[1;32m   2494\u001b[0m   (graph_function,\n\u001b[1;32m   2495\u001b[0m    filtered_flat_args) \u001b[38;5;241m=\u001b[39m \u001b[38;5;28mself\u001b[39m\u001b[38;5;241m.\u001b[39m_maybe_define_function(args, kwargs)\n\u001b[0;32m-> 2496\u001b[0m \u001b[38;5;28;01mreturn\u001b[39;00m \u001b[43mgraph_function\u001b[49m\u001b[38;5;241;43m.\u001b[39;49m\u001b[43m_call_flat\u001b[49m\u001b[43m(\u001b[49m\n\u001b[1;32m   2497\u001b[0m \u001b[43m    \u001b[49m\u001b[43mfiltered_flat_args\u001b[49m\u001b[43m,\u001b[49m\u001b[43m \u001b[49m\u001b[43mcaptured_inputs\u001b[49m\u001b[38;5;241;43m=\u001b[39;49m\u001b[43mgraph_function\u001b[49m\u001b[38;5;241;43m.\u001b[39;49m\u001b[43mcaptured_inputs\u001b[49m\u001b[43m)\u001b[49m\n",
      "File \u001b[0;32m~/miniconda3/envs/avatarenv/lib/python3.8/site-packages/tensorflow/python/eager/function.py:1862\u001b[0m, in \u001b[0;36mConcreteFunction._call_flat\u001b[0;34m(self, args, captured_inputs, cancellation_manager)\u001b[0m\n\u001b[1;32m   1858\u001b[0m possible_gradient_type \u001b[38;5;241m=\u001b[39m gradients_util\u001b[38;5;241m.\u001b[39mPossibleTapeGradientTypes(args)\n\u001b[1;32m   1859\u001b[0m \u001b[38;5;28;01mif\u001b[39;00m (possible_gradient_type \u001b[38;5;241m==\u001b[39m gradients_util\u001b[38;5;241m.\u001b[39mPOSSIBLE_GRADIENT_TYPES_NONE\n\u001b[1;32m   1860\u001b[0m     \u001b[38;5;129;01mand\u001b[39;00m executing_eagerly):\n\u001b[1;32m   1861\u001b[0m   \u001b[38;5;66;03m# No tape is watching; skip to running the function.\u001b[39;00m\n\u001b[0;32m-> 1862\u001b[0m   \u001b[38;5;28;01mreturn\u001b[39;00m \u001b[38;5;28mself\u001b[39m\u001b[38;5;241m.\u001b[39m_build_call_outputs(\u001b[38;5;28;43mself\u001b[39;49m\u001b[38;5;241;43m.\u001b[39;49m\u001b[43m_inference_function\u001b[49m\u001b[38;5;241;43m.\u001b[39;49m\u001b[43mcall\u001b[49m\u001b[43m(\u001b[49m\n\u001b[1;32m   1863\u001b[0m \u001b[43m      \u001b[49m\u001b[43mctx\u001b[49m\u001b[43m,\u001b[49m\u001b[43m \u001b[49m\u001b[43margs\u001b[49m\u001b[43m,\u001b[49m\u001b[43m \u001b[49m\u001b[43mcancellation_manager\u001b[49m\u001b[38;5;241;43m=\u001b[39;49m\u001b[43mcancellation_manager\u001b[49m\u001b[43m)\u001b[49m)\n\u001b[1;32m   1864\u001b[0m forward_backward \u001b[38;5;241m=\u001b[39m \u001b[38;5;28mself\u001b[39m\u001b[38;5;241m.\u001b[39m_select_forward_and_backward_functions(\n\u001b[1;32m   1865\u001b[0m     args,\n\u001b[1;32m   1866\u001b[0m     possible_gradient_type,\n\u001b[1;32m   1867\u001b[0m     executing_eagerly)\n\u001b[1;32m   1868\u001b[0m forward_function, args_with_tangents \u001b[38;5;241m=\u001b[39m forward_backward\u001b[38;5;241m.\u001b[39mforward()\n",
      "File \u001b[0;32m~/miniconda3/envs/avatarenv/lib/python3.8/site-packages/tensorflow/python/eager/function.py:499\u001b[0m, in \u001b[0;36m_EagerDefinedFunction.call\u001b[0;34m(self, ctx, args, cancellation_manager)\u001b[0m\n\u001b[1;32m    497\u001b[0m \u001b[38;5;28;01mwith\u001b[39;00m _InterpolateFunctionError(\u001b[38;5;28mself\u001b[39m):\n\u001b[1;32m    498\u001b[0m   \u001b[38;5;28;01mif\u001b[39;00m cancellation_manager \u001b[38;5;129;01mis\u001b[39;00m \u001b[38;5;28;01mNone\u001b[39;00m:\n\u001b[0;32m--> 499\u001b[0m     outputs \u001b[38;5;241m=\u001b[39m \u001b[43mexecute\u001b[49m\u001b[38;5;241;43m.\u001b[39;49m\u001b[43mexecute\u001b[49m\u001b[43m(\u001b[49m\n\u001b[1;32m    500\u001b[0m \u001b[43m        \u001b[49m\u001b[38;5;28;43mstr\u001b[39;49m\u001b[43m(\u001b[49m\u001b[38;5;28;43mself\u001b[39;49m\u001b[38;5;241;43m.\u001b[39;49m\u001b[43msignature\u001b[49m\u001b[38;5;241;43m.\u001b[39;49m\u001b[43mname\u001b[49m\u001b[43m)\u001b[49m\u001b[43m,\u001b[49m\n\u001b[1;32m    501\u001b[0m \u001b[43m        \u001b[49m\u001b[43mnum_outputs\u001b[49m\u001b[38;5;241;43m=\u001b[39;49m\u001b[38;5;28;43mself\u001b[39;49m\u001b[38;5;241;43m.\u001b[39;49m\u001b[43m_num_outputs\u001b[49m\u001b[43m,\u001b[49m\n\u001b[1;32m    502\u001b[0m \u001b[43m        \u001b[49m\u001b[43minputs\u001b[49m\u001b[38;5;241;43m=\u001b[39;49m\u001b[43margs\u001b[49m\u001b[43m,\u001b[49m\n\u001b[1;32m    503\u001b[0m \u001b[43m        \u001b[49m\u001b[43mattrs\u001b[49m\u001b[38;5;241;43m=\u001b[39;49m\u001b[43mattrs\u001b[49m\u001b[43m,\u001b[49m\n\u001b[1;32m    504\u001b[0m \u001b[43m        \u001b[49m\u001b[43mctx\u001b[49m\u001b[38;5;241;43m=\u001b[39;49m\u001b[43mctx\u001b[49m\u001b[43m)\u001b[49m\n\u001b[1;32m    505\u001b[0m   \u001b[38;5;28;01melse\u001b[39;00m:\n\u001b[1;32m    506\u001b[0m     outputs \u001b[38;5;241m=\u001b[39m execute\u001b[38;5;241m.\u001b[39mexecute_with_cancellation(\n\u001b[1;32m    507\u001b[0m         \u001b[38;5;28mstr\u001b[39m(\u001b[38;5;28mself\u001b[39m\u001b[38;5;241m.\u001b[39msignature\u001b[38;5;241m.\u001b[39mname),\n\u001b[1;32m    508\u001b[0m         num_outputs\u001b[38;5;241m=\u001b[39m\u001b[38;5;28mself\u001b[39m\u001b[38;5;241m.\u001b[39m_num_outputs,\n\u001b[0;32m   (...)\u001b[0m\n\u001b[1;32m    511\u001b[0m         ctx\u001b[38;5;241m=\u001b[39mctx,\n\u001b[1;32m    512\u001b[0m         cancellation_manager\u001b[38;5;241m=\u001b[39mcancellation_manager)\n",
      "File \u001b[0;32m~/miniconda3/envs/avatarenv/lib/python3.8/site-packages/tensorflow/python/eager/execute.py:54\u001b[0m, in \u001b[0;36mquick_execute\u001b[0;34m(op_name, num_outputs, inputs, attrs, ctx, name)\u001b[0m\n\u001b[1;32m     52\u001b[0m \u001b[38;5;28;01mtry\u001b[39;00m:\n\u001b[1;32m     53\u001b[0m   ctx\u001b[38;5;241m.\u001b[39mensure_initialized()\n\u001b[0;32m---> 54\u001b[0m   tensors \u001b[38;5;241m=\u001b[39m \u001b[43mpywrap_tfe\u001b[49m\u001b[38;5;241;43m.\u001b[39;49m\u001b[43mTFE_Py_Execute\u001b[49m\u001b[43m(\u001b[49m\u001b[43mctx\u001b[49m\u001b[38;5;241;43m.\u001b[39;49m\u001b[43m_handle\u001b[49m\u001b[43m,\u001b[49m\u001b[43m \u001b[49m\u001b[43mdevice_name\u001b[49m\u001b[43m,\u001b[49m\u001b[43m \u001b[49m\u001b[43mop_name\u001b[49m\u001b[43m,\u001b[49m\n\u001b[1;32m     55\u001b[0m \u001b[43m                                      \u001b[49m\u001b[43minputs\u001b[49m\u001b[43m,\u001b[49m\u001b[43m \u001b[49m\u001b[43mattrs\u001b[49m\u001b[43m,\u001b[49m\u001b[43m \u001b[49m\u001b[43mnum_outputs\u001b[49m\u001b[43m)\u001b[49m\n\u001b[1;32m     56\u001b[0m \u001b[38;5;28;01mexcept\u001b[39;00m core\u001b[38;5;241m.\u001b[39m_NotOkStatusException \u001b[38;5;28;01mas\u001b[39;00m e:\n\u001b[1;32m     57\u001b[0m   \u001b[38;5;28;01mif\u001b[39;00m name \u001b[38;5;129;01mis\u001b[39;00m \u001b[38;5;129;01mnot\u001b[39;00m \u001b[38;5;28;01mNone\u001b[39;00m:\n",
      "\u001b[0;31mKeyboardInterrupt\u001b[0m: "
     ]
    }
   ],
   "source": [
    "history = model.fit(X_train, y_train, epochs=2000, batch_size=32, callbacks=my_callbacks, \n",
    "                    validation_data=(X_val, y_val))"
   ]
  },
  {
   "cell_type": "code",
   "execution_count": null,
   "id": "556b618d",
   "metadata": {},
   "outputs": [],
   "source": [
    "latest = tf.train.latest_checkpoint(checkpoint_dir)\n",
    "model = tf.keras.Model()\n",
    "#model.load_model(latest)\n",
    "model=tf.keras.models.load_model('/home/avatar/avatar_project/wake_word_model')\n",
    "\n",
    "model.evaluate(X_val, y_val, batch_size=32)"
   ]
  },
  {
   "cell_type": "code",
   "execution_count": null,
   "id": "4915a79d",
   "metadata": {},
   "outputs": [],
   "source": [
    "val_loss = history.history['val_loss']\n",
    "train_loss = history.history['loss']\n",
    "plt.plot(train_loss, label='Training Loss')\n",
    "plt.plot(val_loss, label='Validation Loss')\n",
    "plt.xlabel('Epochs')\n",
    "plt.ylabel('Loss')\n",
    "plt.legend()\n",
    "plt.show()"
   ]
  },
  {
   "cell_type": "code",
   "execution_count": null,
   "id": "2ff2987b",
   "metadata": {},
   "outputs": [],
   "source": [
    "\n",
    "Test_path_pos = \"/home/avatar/avatar_project/test_data/positives/test_reetta_positives\"\n",
    "Test_path_neg = \"/home/avatar/avatar_project/test_data/negatives/test_reetta_negatives\"\n",
    "test_pos = []\n",
    "test_neg = []\n",
    "\n",
    "for keyword in os.listdir(Test_path_pos):\n",
    "    audio, fs = librosa.load(os.path.join(Test_path_pos, keyword), sr=16000)\n",
    "    \n",
    "    mel_spec = librosa.feature.melspectrogram(y=audio, sr=sample_rate, n_fft=512, hop_length=160, n_mels=48, fmax=8000)\n",
    "    mel_spec_db = librosa.power_to_db(mel_spec, ref=np.max).T\n",
    "    mel_spec_db_norm = (mel_spec_db - np.min(mel_spec_db)) / (np.max(mel_spec_db) - np.min(mel_spec_db))\n",
    "    test_pos.append(mel_spec_db_norm) \n",
    "\n",
    "\n",
    "for noise in os.listdir(Test_path_neg):\n",
    "    audio, fs = librosa.load(os.path.join(Test_path_neg, noise), sr=16000)\n",
    "    \n",
    "    mel_spec = librosa.feature.melspectrogram(y=audio, sr=sample_rate, n_fft=512, hop_length=160, n_mels=48, fmax=8000)\n",
    "    mel_spec_db = librosa.power_to_db(mel_spec, ref=np.max).T\n",
    "    mel_spec_db_norm = (mel_spec_db - np.min(mel_spec_db)) / (np.max(mel_spec_db) - np.min(mel_spec_db))\n",
    "    test_neg.append(mel_spec_db_norm) \n",
    "   "
   ]
  },
  {
   "cell_type": "code",
   "execution_count": null,
   "id": "21cab00c",
   "metadata": {},
   "outputs": [],
   "source": [
    "print(np.shape(test_pos))\n",
    "print(np.shape(test_neg))\n",
    "test_pos = np.squeeze(test_pos)\n",
    "test_neg = np.squeeze(test_neg)\n",
    "test_pos_labels = np.ones(test_pos.shape[0])\n",
    "test_neg_labels = 0*np.ones(test_neg.shape[0])\n",
    "\n",
    "X_test = np.concatenate((test_pos, test_neg), axis=0)\n",
    "y_test = np.concatenate((test_pos_labels, test_neg_labels), axis=0)\n",
    "y_test = tf.keras.utils.to_categorical(y_test, 2)"
   ]
  },
  {
   "cell_type": "code",
   "execution_count": null,
   "id": "e7ae632c",
   "metadata": {},
   "outputs": [],
   "source": [
    "\n",
    "model.evaluate(X_test, y_test, batch_size=32)\n",
    "hypothesis= model.predict(X_test, batch_size=32)\n",
    "y_pred = tf.keras.utils.to_categorical(hypothesis, 2)\n",
    "from sklearn.metrics import confusion_matrix\n",
    "from sklearn.metrics import precision_recall_curve\n",
    "\n",
    "y_true = y_test[:, 1]\n",
    "#fpr, tpr, thresholds = precision_recall_curve(y_true, y_pred)\n",
    "\n",
    "y_pred = np.round(hypothesis[:, 1])\n",
    "CM = confusion_matrix(y_true, y_pred)\n",
    "TN = CM[0][0]\n",
    "FN = CM[1][0]\n",
    "TP = CM[1][1]\n",
    "FP = CM[0][1]\n",
    "Precision = TP/(TP+FP)\n",
    "Recall = TP/(TP+FN)\n",
    "F1_score = 2*((Precision*Recall)/(Precision+Recall))\n",
    "print(f\"true negatives: {TN}, false negatives: {FN}, true positives {TP}, false positives {FP}\")\n",
    "print(f\" Precision: {Precision}\")\n",
    "print(f\" Recall: {Recall}\")\n",
    "print(f\" F1 score: {F1_score}\")"
   ]
  },
  {
   "cell_type": "code",
   "execution_count": null,
   "id": "7f001c9d",
   "metadata": {},
   "outputs": [],
   "source": [
    "Test_path_pos = \"/home/avatar/avatar_project/test_data/positives/test_topias_positives\"\n",
    "Test_path_neg = \"/home/avatar/avatar_project/test_data/negatives/test_topias_negatives\"\n",
    "test_pos = []\n",
    "test_neg = []\n",
    "for keyword in os.listdir(Test_path_pos):\n",
    "    audio, fs = librosa.load(os.path.join(Test_path_pos, keyword), sr=16000)\n",
    "    \n",
    "    mel_spec = librosa.feature.melspectrogram(y=audio, sr=sample_rate, n_fft=512, hop_length=160, n_mels=48, fmax=8000)\n",
    "    mel_spec_db = librosa.power_to_db(mel_spec, ref=np.max).T\n",
    "    mel_spec_db_norm = (mel_spec_db - np.min(mel_spec_db)) / (np.max(mel_spec_db) - np.min(mel_spec_db))\n",
    "    test_pos.append(mel_spec_db_norm) \n",
    "\n",
    "for noise in os.listdir(Test_path_neg):\n",
    "    audio, fs = librosa.load(os.path.join(Test_path_neg, noise), sr=16000)\n",
    "    \n",
    "    mel_spec = librosa.feature.melspectrogram(y=audio, sr=sample_rate, n_fft=512, hop_length=160, n_mels=48, fmax=8000)\n",
    "    mel_spec_db = librosa.power_to_db(mel_spec, ref=np.max).T\n",
    "    mel_spec_db_norm = (mel_spec_db - np.min(mel_spec_db)) / (np.max(mel_spec_db) - np.min(mel_spec_db))\n",
    "    test_neg.append(mel_spec_db_norm) "
   ]
  },
  {
   "cell_type": "code",
   "execution_count": null,
   "id": "aa7be08f",
   "metadata": {},
   "outputs": [],
   "source": [
    "print(np.shape(test_pos))\n",
    "print(np.shape(test_neg))\n",
    "test_pos = np.squeeze(test_pos)\n",
    "test_neg = np.squeeze(test_neg)\n",
    "test_pos_labels = np.ones(test_pos.shape[0])\n",
    "test_neg_labels = 0*np.ones(test_neg.shape[0])\n",
    "\n",
    "X_test = np.concatenate((test_pos, test_neg), axis=0)\n",
    "y_test = np.concatenate((test_pos_labels, test_neg_labels), axis=0)\n",
    "y_test = tf.keras.utils.to_categorical(y_test, 2)"
   ]
  },
  {
   "cell_type": "code",
   "execution_count": null,
   "id": "b063aaea",
   "metadata": {},
   "outputs": [],
   "source": [
    "model.evaluate(X_test, y_test, batch_size=32)\n",
    "hypothesis= model.predict(X_test, batch_size=32)\n",
    "y_pred = tf.keras.utils.to_categorical(hypothesis, 2)\n",
    "from sklearn.metrics import confusion_matrix\n",
    "from sklearn.metrics import precision_recall_curve\n",
    "\n",
    "y_true = y_test[:, 1]\n",
    "\n",
    "#fpr, tpr, thresholds = precision_recall_curve(y_true, y_pred)\n",
    "\n",
    "\n",
    "y_pred = np.round(hypothesis[:, 1])\n",
    "CM = confusion_matrix(y_true, y_pred)\n",
    "TN = CM[0][0]\n",
    "FN = CM[1][0]\n",
    "TP = CM[1][1]\n",
    "FP = CM[0][1]\n",
    "Precision = TP/(TP+FP)\n",
    "Recall = TP/(TP+FN)\n",
    "F1_score = 2*((Precision*Recall)/(Precision+Recall))\n",
    "print(f\"true negatives: {TN}, false negatives: {FN}, true positives {TP}, false positives {FP}\")\n",
    "print(f\" Precision: {Precision}\")\n",
    "print(f\" Recall: {Recall}\")\n",
    "print(f\" F1 score: {F1_score}\")"
   ]
  },
  {
   "cell_type": "code",
   "execution_count": null,
   "id": "81ba3817",
   "metadata": {},
   "outputs": [],
   "source": [
    "from sklearn.metrics import roc_curve\n"
   ]
  },
  {
   "cell_type": "code",
   "execution_count": null,
   "id": "3cb59ea9",
   "metadata": {},
   "outputs": [],
   "source": [
    "\"\"\"\n",
    "sample_rate = 16000\n",
    "seconds = 3\n",
    "\n",
    "case=0\n",
    "recording = sd.rec(int(seconds * fs), samplerate=sample_rate, channels=1)\n",
    "sd.wait()\n",
    "first_audio = np.squeeze(recording)\n",
    "\n",
    "long_audio=first_audio\n",
    "while True:\n",
    "    if case == 150:\n",
    "        break\n",
    "    case+= 1\n",
    "    print(\"Say Now: \")\n",
    "    recording = sd.rec(int(1 * fs), samplerate=fs, channels=1)\n",
    "    sd.wait()\n",
    "    \n",
    "    audio = np.squeeze(recording)\n",
    "    long_audio = np.delete(long_audio , [index for index in range(int(np.shape(audio)[0]))] )\n",
    "    long_audio = np.hstack((long_audio, audio))\n",
    "    mel_spec = librosa.feature.melspectrogram(y=long_audio, sr=sample_rate, n_fft=512, hop_length=160, n_mels=48, fmax=8000)\n",
    "    mel_spec_db = librosa.power_to_db(mel_spec, ref=np.max).T\n",
    "    mel_spec_db_norm = (mel_spec_db - np.min(mel_spec_db)) / (np.max(mel_spec_db) - np.min(mel_spec_db))\n",
    "\n",
    "    prediction = model.predict(np.expand_dims(mel_spec_db_norm, axis=0), batch_size=32)\n",
    "    print(prediction)\n",
    "    if prediction[:, 1] > 0.80:\n",
    "        print(f\"Wake Word Detected for ({case})\")\n",
    "        print(\"Confidence:\", prediction[:, 1])\n",
    "        #write(test_file + \"positive\" + str(case) + \".wav\", fs, long_audio)\n",
    "    \n",
    "    else:\n",
    "        print(f\"Wake Word NOT Detected\")\n",
    "        print(\"Confidence:\", prediction[:, 0])\n",
    "        #write(test_file + \"negative\" + str(case) + \".wav\", fs, long_audio)\n",
    "\"\"\"\n"
   ]
  }
 ],
 "metadata": {
  "kernelspec": {
   "display_name": "Python 3 (ipykernel)",
   "language": "python",
   "name": "python3"
  },
  "language_info": {
   "codemirror_mode": {
    "name": "ipython",
    "version": 3
   },
   "file_extension": ".py",
   "mimetype": "text/x-python",
   "name": "python",
   "nbconvert_exporter": "python",
   "pygments_lexer": "ipython3",
   "version": "3.8.13 (default, Mar 28 2022, 11:38:47) \n[GCC 7.5.0]"
  },
  "vscode": {
   "interpreter": {
    "hash": "d24800f016d62d39d05c84f087c423062fe9fe39fe06d695a6b78b39a245f41d"
   }
  }
 },
 "nbformat": 4,
 "nbformat_minor": 5
}
